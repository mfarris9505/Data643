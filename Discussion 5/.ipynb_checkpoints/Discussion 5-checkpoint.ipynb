{
 "cells": [
  {
   "cell_type": "markdown",
   "metadata": {},
   "source": [
    "# Pokemon Go: an Internet Sensation, OR a Data Analysts Dream"
   ]
  },
  {
   "cell_type": "markdown",
   "metadata": {},
   "source": [
    "## Introduction "
   ]
  },
  {
   "cell_type": "markdown",
   "metadata": {},
   "source": [
    "Ok, I know this is a BIT of a reach, but frankly, this game has all the under workings of a revolution in the making, and infinite social/geographical potential. If you are a millennial like myself you have probably at one point played and/or watched Pokemon. I mean really who could resist wanting to catch furry creatures to battle other equally cute monster in order to collect them. The premise of the game (for those of you not keeping up with the times) is quite simple. You walk around, anywhere(patched to Google maps), and collect Pokemon you come across in your travels. If you have seen the millions of mindless zombies staring intently at their phones while flicking a thumb, you have come across one of these wayward collectors. The game is in it's infancy developmental wise, but despite many crashes and flaws, this game has immense potential to provide unique social data, the likes of which we have yet to see in any network."
   ]
  },
  {
   "cell_type": "markdown",
   "metadata": {},
   "source": [
    "## Recommender System Development: "
   ]
  },
  {
   "cell_type": "markdown",
   "metadata": {},
   "source": [
    "As much of this game is unknown at the moment, I propose several possible ways to utilize this new augmented reality too. First off, *location,location, location*. In-game, this system creates artificial \"hubs,\" places where users can interact with the artificial environment, in the real world. Most of these hubs are parks (and surprisingly churches?) but they can be anything from venues to artwork. Walking around the city, you can find these hubs, and click on them to be reward in-game with items needed to catch Pokemon. Second, though not yet implemented, the game works off a social network(you sign in with a gmail account). Using these two in combination, we have a unique recommender application. Though I am unsure HOW much of the data this particular program collects (I am positive it at least collects time stamped data of hubs you visit), one could theoretically developed an immerse world of augmented reality, one where recommendations for food,store, etc,  pop up based on previous routes. Business could plot \"hotspots\" (at this point for nerds), recommendation, find most traffic locations etc. "
   ]
  }
 ],
 "metadata": {
  "kernelspec": {
   "display_name": "Python 2",
   "language": "python",
   "name": "python2"
  },
  "language_info": {
   "codemirror_mode": {
    "name": "ipython",
    "version": 2
   },
   "file_extension": ".py",
   "mimetype": "text/x-python",
   "name": "python",
   "nbconvert_exporter": "python",
   "pygments_lexer": "ipython2",
   "version": "2.7.11"
  }
 },
 "nbformat": 4,
 "nbformat_minor": 0
}
