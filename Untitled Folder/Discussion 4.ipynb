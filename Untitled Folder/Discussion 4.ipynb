{
 "cells": [
  {
   "cell_type": "markdown",
   "metadata": {},
   "source": [
    "# Consent and Ad-Targeting : The Dark-Side of Recommender Systems"
   ]
  },
  {
   "cell_type": "markdown",
   "metadata": {},
   "source": [
    "## Introduction"
   ]
  },
  {
   "cell_type": "markdown",
   "metadata": {},
   "source": [
    "With the advent of big data, we face a slew of new ethical questions. Though they have become a great inovation in online usage, recommender have some drawbacks sever drawbacks in terms of privacy, and security. Furthermore, a new area of ethical questions have been raised. In this discussion we will focus on two areas of recommendation systems, the first being the idea of consent and recommendations, the second being the more nefarious ad-targeting. Both of these ideas revolve around \"misleading\" potential users, offering recommendations that are not in line with the consumers best interest, but rather the company the provides the recommendation. Here, we will discuss the proverbial gray line that advertisers and companies tiptoe across in order to increase sales and use. "
   ]
  },
  {
   "cell_type": "markdown",
   "metadata": {},
   "source": [
    "## Discussion "
   ]
  },
  {
   "cell_type": "markdown",
   "metadata": {},
   "source": [
    "In the below referenced articles, The Guardian ---a personal favorite of mine, which makes this some unethical advertising here--- talk about recommender systems and how they have broached this moral gray area. The first article discusses consent that certain companies take for granted. Specifically, the article discusses OkCupid's Match algorithm that provides users with recommendations for compatible relationship. Here, there is the idea that any user who signs up automatically consents to be given matches by the site. However, what is it that the user is actually consent to? OKcupid proposed some random arbitrary assignments to its users to \"experiment\" on compatible issues, leading to some very questionable practices. They took people's compatibility and essential swapped them. Furthermore, Facebook has conducted experiments, pushing articles on it's news feed tailored to \"emotional contagion.\"  However, it opens up the question, are these \"recommendations\" all just arbitrary? The article goes on to discuss how, as internet users, we are all basically lab rats running on a big wheel hoping for the next bit of cheese. And in someways its true, we are exposed to so much \"experimentation\" that most people ignore it, but some are willfully ignorant of it all. With arbitrary recommendations, are we as a users being subtly manipulated in order to create a better recommendation algorithm?\n",
    "\n",
    "The second article discusses this idea further, but pushes the idea of manipulation to another level. As an advertising system, Google is at the forefront of delivering tailored ads to its users. However, like the consent issue, what's being delievered to the user is questionable at best. The second article discusses the discrimatory aspect of ad-targeting. It discussed how Google's recommendations were more likely to show men ads for higher paying jobs, women were not exposed to such ads. This has an impact in todays society, as study after study shows women routinely making less than their male counterparts. So, what is the cause of this discrepancy? The article comes with the delicate answer that the advertisers themselves choose in a way their target audience, while Google just provides the means for them to do so. So what is it that we as an internet user really being subjected to? As users, are we really just a bunch of ones and zeros, that everything from our relationship status to the jobs we pursue paired down to big data? "
   ]
  },
  {
   "cell_type": "markdown",
   "metadata": {},
   "source": [
    "## Conclusion"
   ]
  },
  {
   "cell_type": "markdown",
   "metadata": {},
   "source": [
    "As both these articles point out, we are exposed to thousands of hidden \"data experiments\" everytime we log online. We are subjected to the mercy of big data, from everything to the news we see on our feed, to the relationships we wish to pursue. This raises major questions that we need to ask, firstly, is this all ethical? Should companies be allowed to continue these practices? And where is that line? \n",
    "\n",
    "For the most part, we have been blessed in the fact that most of these companies hold to a lot of transparency. If something does go wrong, the big companies tend to act quick, and remove any questionable practices themselve. But the first article does point out a significant problem, with the rapid increase in big data and it's potential, fewer people are able to keep up with the innovation. This is creating a gap between the average user, and the data analysts, giving the data analysts more freedom, with less oversight. Combatting these issues will be an ongoing and continual process, that has to grow as fast, if not faster than the creation "
   ]
  },
  {
   "cell_type": "markdown",
   "metadata": {},
   "source": [
    "## References"
   ]
  },
  {
   "cell_type": "markdown",
   "metadata": {},
   "source": [
    "Robbins, M. \"Does OKCupid need our consent?\" *The Guardian* 2014\n",
    "https://www.theguardian.com/science/the-lay-scientist/2014/jul/30/does-okcupid-need-our-consent"
   ]
  },
  {
   "cell_type": "markdown",
   "metadata": {},
   "source": [
    "Gibbs, S. \"Women less likely to be shown ads for high-paid jobs on Google, study shows\" *The Guardian* 2015\n",
    "https://www.theguardian.com/technology/2015/jul/08/women-less-likely-ads-high-paid-jobs-google-study"
   ]
  }
 ],
 "metadata": {},
 "nbformat": 4,
 "nbformat_minor": 0
}
