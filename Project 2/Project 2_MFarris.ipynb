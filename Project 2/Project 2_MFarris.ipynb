{
 "cells": [
  {
   "cell_type": "markdown",
   "metadata": {},
   "source": [
    "# Project 2: Revamping the Basic Recommender System"
   ]
  },
  {
   "cell_type": "code",
   "execution_count": 166,
   "metadata": {
    "collapsed": true
   },
   "outputs": [],
   "source": [
    "import pandas as pd \n",
    "import numpy as np\n",
    "import math\n",
    "import csv\n",
    "from sklearn.metrics import pairwise_distances\n",
    "from scipy.spatial.distance import cosine\n"
   ]
  },
  {
   "cell_type": "markdown",
   "metadata": {},
   "source": [
    "## Purpose"
   ]
  },
  {
   "cell_type": "raw",
   "metadata": {},
   "source": [
    "For this project, we took our existing Recommender system and Revamped it to analysis several different processes. First, we changed our normalization approach, in the first assignment we automatically calculated the mean-centered data, but for this project, we are going to compare that without normalization. Furthermore, we are going to attempt and Item-Item Colloborative Filter vs. a User-User Collabritive filter. Again the data we are using is from lasts weeks project, and again, we are going to take in my \"official ratings\" as the basis to test our recommender system. At the end we should have have 4 comparsions, which we will look at graphtically "
   ]
  },
  {
   "cell_type": "markdown",
   "metadata": {},
   "source": [
    "### Data Collection and Cleaning"
   ]
  },
  {
   "cell_type": "code",
   "execution_count": 167,
   "metadata": {
    "collapsed": false
   },
   "outputs": [],
   "source": [
    "#Data file containing ratings data\n",
    "f = open(\"data/Movies.txt\")\n",
    "text = csv.reader(f, delimiter = \"\\t\")\n",
    "ratings = list(text)\n",
    "myMovieRatings = pd.DataFrame(ratings, columns = [\"Movie_id\", \"Title\"])\n",
    "rate = [4,5,5,4,2,2,2,1,4,4,5,3,2,2,3,4,2,5,2,1]\n",
    "myratings = pd.DataFrame(rate, columns =[\"Rating\"])\n",
    "dfs = [myMovieRatings,myratings]\n",
    "myMovieRatings = pd.concat(dfs, axis = 1)\n",
    "#Data file containing ratings data\n",
    "f = open(\"data/u.data\")\n",
    "text = csv.reader(f, delimiter = \"\\t\")\n",
    "ratings = list(text)\n",
    "\n",
    "# My Ratings of the movie Data (I left out the ones I wanted to \"guess\")\n",
    "my_ratings = [4,5,5,4,0,2,2,1,4,4,5,3,2,2,3,0,2,5,2,1]\n",
    "\n",
    "ratings_pd = pd.DataFrame(ratings, columns = [\"user_id\",\"movie_id\", \"rating\",\"timestamp\"])\n",
    "ratings_pd = ratings_pd.drop([\"timestamp\"], 1)\n",
    "\n",
    "movies = ratings_pd.pivot(index = \"movie_id\", columns = \"user_id\", values = \"rating\")\n",
    "\n",
    "#Movie IDs\n",
    "i = ['55','56','64','71','94','102','118','133','141','168','173','196','1278','928','780',\n",
    "     '651','514','483','432','404']\n",
    "movies = movies.loc[i,:]\n",
    "\n",
    "#Random User IDs\n",
    "l = ['13','128','201','207','222','23','234','246','267','268','269','276','493','642',\n",
    "     '655','846','95','262','194','130','1']\n",
    "movies = movies.loc[:,l]\n",
    "movies = movies.fillna(value=0)\n",
    "\n",
    "movies_np = np.array(movies)\n",
    "movies_np = movies_np.astype(float)\n",
    "movies_np = np.insert(movies_np, 0, my_ratings, axis=1)\n",
    "\n"
   ]
  },
  {
   "cell_type": "markdown",
   "metadata": {},
   "source": [
    "### Processing Data: Normalization Vs. Non-Normalized Data"
   ]
  },
  {
   "cell_type": "code",
   "execution_count": 168,
   "metadata": {
    "collapsed": false
   },
   "outputs": [],
   "source": [
    "def mean_user(movies_np):\n",
    "    movies_np = np.nan_to_num(movies_np)\n",
    "    count_user = []\n",
    "    mean_user = []\n",
    "\n",
    "    for row in movies_np.T:\n",
    "        row_sum = np.sum(row)\n",
    "        count = np.count_nonzero(row)\n",
    "        count_user.append(count)\n",
    "        mean_user.append(row_sum/count)\n",
    "    \n",
    "    return mean_user\n",
    "\n",
    "\n",
    "def norm_mean_cent(movies_np):\n",
    "    mean_movie= []\n",
    "    \n",
    "    count_movie = []\n",
    "\n",
    "    for row in movies_np:\n",
    "        row_sum = np.sum(row)\n",
    "        count = np.count_nonzero(row)\n",
    "        count_movie.append(count)\n",
    "        mean_movie.append(row_sum/count)\n",
    "    \n",
    "    count_user = []\n",
    "    mean_user = []\n",
    "\n",
    "    for row in movies_np.T:\n",
    "        row_sum = np.sum(row)\n",
    "        count = np.count_nonzero(row)\n",
    "        count_user.append(count)\n",
    "        mean_user.append(row_sum/count)\n",
    "\n",
    "    movies_np[movies_np==0] = np.nan\n",
    "\n",
    "    mean_cent = []\n",
    "    i = 0\n",
    "    for row in  movies_np:\n",
    "        mean_cent.append(row - mean_movie[i]) \n",
    "        i += 1\n",
    "    \n",
    "    mean_cent = np.array(mean_cent)\n",
    "    mean_cent = np.nan_to_num(mean_cent)\n",
    "    \n",
    "    return mean_cent\n",
    "mean_cent = norm_mean_cent(movies_np)\n",
    "mean_user = mean_user(movies_np)"
   ]
  },
  {
   "cell_type": "markdown",
   "metadata": {},
   "source": [
    "### Processing Data: Item-Item Vs. User-User"
   ]
  },
  {
   "cell_type": "code",
   "execution_count": 169,
   "metadata": {
    "collapsed": false,
    "scrolled": true
   },
   "outputs": [],
   "source": [
    "def Item_Item(data,mean_user, user, movie):\n",
    "    data = np.nan_to_num(data)\n",
    "    num = 1 - pairwise_distances(data, metric=\"cosine\")\n",
    "    Sort = np.array(num[movie])\n",
    "    ind = Sort.argsort()[-3:][::-1]\n",
    "    x1 = data[user,ind[1]]\n",
    "    x2 = data[user,ind[2]]    \n",
    "    n = 0\n",
    "    if x1 == 0:\n",
    "        n = (x2 * Sort[ind[2]])/Sort[ind[2]]\n",
    "    elif x2 == 0:\n",
    "        n = (x1 * Sort[ind[1]])/Sort[ind[1]]\n",
    "    elif x1 and x2 == 0:\n",
    "        pass\n",
    "    else:\n",
    "        n = ((x1 * Sort[ind[1]]) + (x2 * Sort[ind[2]]))/(Sort[ind[1]]+Sort[ind[2]])\n",
    "\n",
    "    Fin_Rating = mean_user[user] + n\n",
    "    \n",
    "    return Fin_Rating\n",
    "\n",
    "def User_User(data, mean_user, user, movie):\n",
    "    data = np.nan_to_num(data)\n",
    "    num = 1 - pairwise_distances(data, metric=\"cosine\")\n",
    "    Sort = np.array(num[movie])\n",
    "    ind = Sort.argsort()[-3:][::-1]\n",
    "    x1 = data[ind[1],user]\n",
    "    x2 = data[ind[2],user]\n",
    "    n = 0\n",
    "    if x1 == 0:\n",
    "        n = (x2 * Sort[ind[2]])/Sort[ind[2]]\n",
    "    elif x2 == 0:\n",
    "        n = (x2 * Sort[ind[2]])/Sort[ind[2]]\n",
    "    elif x1 and x2 == 0:\n",
    "        pass\n",
    "    else:\n",
    "        n = ((x1 * Sort[ind[1]]) + (x2 * Sort[ind[2]]))/(Sort[ind[1]]+Sort[ind[2]])\n",
    "    \n",
    "    Fin_Rating = mean_user[user] + n\n",
    "    return Fin_Rating\n"
   ]
  },
  {
   "cell_type": "code",
   "execution_count": 170,
   "metadata": {
    "collapsed": false
   },
   "outputs": [
    {
     "ename": "IndexError",
     "evalue": "index 21 is out of bounds for axis 1 with size 20",
     "output_type": "error",
     "traceback": [
      "\u001b[1;31m---------------------------------------------------------------------------\u001b[0m",
      "\u001b[1;31mIndexError\u001b[0m                                Traceback (most recent call last)",
      "\u001b[1;32m<ipython-input-170-7f8c09bfd858>\u001b[0m in \u001b[0;36m<module>\u001b[1;34m()\u001b[0m\n\u001b[0;32m      1\u001b[0m \u001b[0mnorm_item\u001b[0m \u001b[1;33m=\u001b[0m \u001b[1;33m[\u001b[0m\u001b[1;33m]\u001b[0m\u001b[1;33m\u001b[0m\u001b[0m\n\u001b[0;32m      2\u001b[0m \u001b[1;32mfor\u001b[0m \u001b[0mi\u001b[0m \u001b[1;32min\u001b[0m \u001b[0mrange\u001b[0m\u001b[1;33m(\u001b[0m\u001b[1;36m20\u001b[0m\u001b[1;33m)\u001b[0m\u001b[1;33m:\u001b[0m\u001b[1;33m\u001b[0m\u001b[0m\n\u001b[1;32m----> 3\u001b[1;33m     \u001b[0mnorm_item\u001b[0m\u001b[1;33m.\u001b[0m\u001b[0mappend\u001b[0m\u001b[1;33m(\u001b[0m\u001b[0mItem_Item\u001b[0m\u001b[1;33m(\u001b[0m\u001b[0mmean_cent\u001b[0m\u001b[1;33m.\u001b[0m\u001b[0mT\u001b[0m\u001b[1;33m,\u001b[0m\u001b[0mmean_user\u001b[0m\u001b[1;33m,\u001b[0m\u001b[1;36m0\u001b[0m\u001b[1;33m,\u001b[0m\u001b[0mi\u001b[0m\u001b[1;33m)\u001b[0m\u001b[1;33m)\u001b[0m\u001b[1;33m\u001b[0m\u001b[0m\n\u001b[0m\u001b[0;32m      4\u001b[0m \u001b[0mnorm_user\u001b[0m \u001b[1;33m=\u001b[0m \u001b[1;33m[\u001b[0m\u001b[1;33m]\u001b[0m\u001b[1;33m\u001b[0m\u001b[0m\n\u001b[0;32m      5\u001b[0m \u001b[1;32mfor\u001b[0m \u001b[0mi\u001b[0m \u001b[1;32min\u001b[0m \u001b[0mrange\u001b[0m\u001b[1;33m(\u001b[0m\u001b[1;36m20\u001b[0m\u001b[1;33m)\u001b[0m\u001b[1;33m:\u001b[0m\u001b[1;33m\u001b[0m\u001b[0m\n",
      "\u001b[1;32m<ipython-input-169-9d74dc1e3051>\u001b[0m in \u001b[0;36mItem_Item\u001b[1;34m(data, mean_user, user, movie)\u001b[0m\n\u001b[0;32m      4\u001b[0m     \u001b[0mSort\u001b[0m \u001b[1;33m=\u001b[0m \u001b[0mnp\u001b[0m\u001b[1;33m.\u001b[0m\u001b[0marray\u001b[0m\u001b[1;33m(\u001b[0m\u001b[0mnum\u001b[0m\u001b[1;33m[\u001b[0m\u001b[0mmovie\u001b[0m\u001b[1;33m]\u001b[0m\u001b[1;33m)\u001b[0m\u001b[1;33m\u001b[0m\u001b[0m\n\u001b[0;32m      5\u001b[0m     \u001b[0mind\u001b[0m \u001b[1;33m=\u001b[0m \u001b[0mSort\u001b[0m\u001b[1;33m.\u001b[0m\u001b[0margsort\u001b[0m\u001b[1;33m(\u001b[0m\u001b[1;33m)\u001b[0m\u001b[1;33m[\u001b[0m\u001b[1;33m-\u001b[0m\u001b[1;36m3\u001b[0m\u001b[1;33m:\u001b[0m\u001b[1;33m]\u001b[0m\u001b[1;33m[\u001b[0m\u001b[1;33m:\u001b[0m\u001b[1;33m:\u001b[0m\u001b[1;33m-\u001b[0m\u001b[1;36m1\u001b[0m\u001b[1;33m]\u001b[0m\u001b[1;33m\u001b[0m\u001b[0m\n\u001b[1;32m----> 6\u001b[1;33m     \u001b[0mx1\u001b[0m \u001b[1;33m=\u001b[0m \u001b[0mdata\u001b[0m\u001b[1;33m[\u001b[0m\u001b[0muser\u001b[0m\u001b[1;33m,\u001b[0m\u001b[0mind\u001b[0m\u001b[1;33m[\u001b[0m\u001b[1;36m1\u001b[0m\u001b[1;33m]\u001b[0m\u001b[1;33m]\u001b[0m\u001b[1;33m\u001b[0m\u001b[0m\n\u001b[0m\u001b[0;32m      7\u001b[0m     \u001b[0mx2\u001b[0m \u001b[1;33m=\u001b[0m \u001b[0mdata\u001b[0m\u001b[1;33m[\u001b[0m\u001b[0muser\u001b[0m\u001b[1;33m,\u001b[0m\u001b[0mind\u001b[0m\u001b[1;33m[\u001b[0m\u001b[1;36m2\u001b[0m\u001b[1;33m]\u001b[0m\u001b[1;33m]\u001b[0m\u001b[1;33m\u001b[0m\u001b[0m\n\u001b[0;32m      8\u001b[0m     \u001b[0mn\u001b[0m \u001b[1;33m=\u001b[0m \u001b[1;36m0\u001b[0m\u001b[1;33m\u001b[0m\u001b[0m\n",
      "\u001b[1;31mIndexError\u001b[0m: index 21 is out of bounds for axis 1 with size 20"
     ]
    }
   ],
   "source": [
    "norm_item = []\n",
    "for i in range(20):\n",
    "    norm_item.append(Item_Item(mean_cent.T,mean_user,0,i))\n",
    "norm_user = []\n",
    "for i in range(20):\n",
    "    norm_user.append(User_User(mean_cent,mean_user,0,i))\n",
    "movie_item = []\n",
    "for i in range(20):\n",
    "    movie_item.append(Item_Item(movies_np.T,mean_user,0,i))\n",
    "movie_user = []\n",
    "for i in range(20):\n",
    "    movie_user.append(User_User(movies_np,mean_user,0,i))"
   ]
  },
  {
   "cell_type": "code",
   "execution_count": null,
   "metadata": {
    "collapsed": false
   },
   "outputs": [],
   "source": [
    "norm_item = pd.DataFrame(norm_item, columns =[\"norm_item\"])\n",
    "norm_user = pd.DataFrame(norm_user, columns =[\"norm_user\"])\n",
    "movie_item = pd.DataFrame(movie_item, columns =[\"movie_item\"])\n",
    "movie_user = pd.DataFrame(movie_user, columns =[\"movie_user\"])\n",
    "\n",
    "dfs = [myMovieRatings,norm_item,norm_user,movie_item,movie_user]\n",
    "myMovieRatings = pd.concat(dfs, axis = 1)\n",
    "myMovieRatings\n"
   ]
  },
  {
   "cell_type": "markdown",
   "metadata": {},
   "source": [
    "### Referrences: "
   ]
  },
  {
   "cell_type": "markdown",
   "metadata": {},
   "source": [
    "# F. Maxwell Harper and Joseph A. Konstan. 2015. The MovieLens Datasets: History and Context. ACM Transactions on Interactive Intelligent Systems (TiiS) 5, 4, Article 19 (December 2015), 19 pages. http://dx.doi.org/10.1145/2827872 http://grouplens.org/datasets/movielens/"
   ]
  }
 ],
 "metadata": {
  "kernelspec": {
   "display_name": "Python 2",
   "language": "python",
   "name": "python2"
  },
  "language_info": {
   "codemirror_mode": {
    "name": "ipython",
    "version": 2
   },
   "file_extension": ".py",
   "mimetype": "text/x-python",
   "name": "python",
   "nbconvert_exporter": "python",
   "pygments_lexer": "ipython2",
   "version": "2.7.11"
  }
 },
 "nbformat": 4,
 "nbformat_minor": 0
}
