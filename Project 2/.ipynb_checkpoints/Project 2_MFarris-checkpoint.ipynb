{
 "cells": [
  {
   "cell_type": "markdown",
   "metadata": {},
   "source": [
    "# Project 2: Revamping the Basic Recommender System"
   ]
  },
  {
   "cell_type": "code",
   "execution_count": 30,
   "metadata": {
    "collapsed": true
   },
   "outputs": [],
   "source": [
    "import pandas as pd \n",
    "import numpy as np\n",
    "import math\n",
    "import csv\n"
   ]
  },
  {
   "cell_type": "markdown",
   "metadata": {},
   "source": [
    "## Purpose"
   ]
  },
  {
   "cell_type": "raw",
   "metadata": {},
   "source": [
    "For this project, we took our existing Recommender system and Revamped it to analysis several different processes. First, we changed our normalization approach.  "
   ]
  },
  {
   "cell_type": "code",
   "execution_count": 31,
   "metadata": {
    "collapsed": false
   },
   "outputs": [
    {
     "data": {
      "text/html": [
       "<div>\n",
       "<table border=\"1\" class=\"dataframe\">\n",
       "  <thead>\n",
       "    <tr style=\"text-align: right;\">\n",
       "      <th></th>\n",
       "      <th>Movie_id</th>\n",
       "      <th>Title</th>\n",
       "      <th>Rating</th>\n",
       "    </tr>\n",
       "  </thead>\n",
       "  <tbody>\n",
       "    <tr>\n",
       "      <th>0</th>\n",
       "      <td>55</td>\n",
       "      <td>Professional, The (1994)</td>\n",
       "      <td>4</td>\n",
       "    </tr>\n",
       "    <tr>\n",
       "      <th>1</th>\n",
       "      <td>56</td>\n",
       "      <td>Pulp Fiction (1994)</td>\n",
       "      <td>5</td>\n",
       "    </tr>\n",
       "    <tr>\n",
       "      <th>2</th>\n",
       "      <td>64</td>\n",
       "      <td>Shawshank Redemption, The (1994)</td>\n",
       "      <td>5</td>\n",
       "    </tr>\n",
       "    <tr>\n",
       "      <th>3</th>\n",
       "      <td>71</td>\n",
       "      <td>Lion King, The (1994)</td>\n",
       "      <td>4</td>\n",
       "    </tr>\n",
       "    <tr>\n",
       "      <th>4</th>\n",
       "      <td>94</td>\n",
       "      <td>Home Alone (1990)</td>\n",
       "      <td>2</td>\n",
       "    </tr>\n",
       "    <tr>\n",
       "      <th>5</th>\n",
       "      <td>102</td>\n",
       "      <td>Aristocats, The (1970)</td>\n",
       "      <td>2</td>\n",
       "    </tr>\n",
       "    <tr>\n",
       "      <th>6</th>\n",
       "      <td>118</td>\n",
       "      <td>Twister (1996)</td>\n",
       "      <td>2</td>\n",
       "    </tr>\n",
       "    <tr>\n",
       "      <th>7</th>\n",
       "      <td>133</td>\n",
       "      <td>Gone with the Wind (1939)</td>\n",
       "      <td>1</td>\n",
       "    </tr>\n",
       "    <tr>\n",
       "      <th>8</th>\n",
       "      <td>141</td>\n",
       "      <td>20,000 Leagues Under the Sea (1954)</td>\n",
       "      <td>4</td>\n",
       "    </tr>\n",
       "    <tr>\n",
       "      <th>9</th>\n",
       "      <td>168</td>\n",
       "      <td>Monty Python and the Holy Grail (1974)</td>\n",
       "      <td>4</td>\n",
       "    </tr>\n",
       "    <tr>\n",
       "      <th>10</th>\n",
       "      <td>173</td>\n",
       "      <td>Princess Bride, The (1987)</td>\n",
       "      <td>5</td>\n",
       "    </tr>\n",
       "    <tr>\n",
       "      <th>11</th>\n",
       "      <td>196</td>\n",
       "      <td>Dead Poets Society (1989)</td>\n",
       "      <td>3</td>\n",
       "    </tr>\n",
       "    <tr>\n",
       "      <th>12</th>\n",
       "      <td>1278</td>\n",
       "      <td>Selena (1997)</td>\n",
       "      <td>2</td>\n",
       "    </tr>\n",
       "    <tr>\n",
       "      <th>13</th>\n",
       "      <td>928</td>\n",
       "      <td>Craft, The (1996)</td>\n",
       "      <td>2</td>\n",
       "    </tr>\n",
       "    <tr>\n",
       "      <th>14</th>\n",
       "      <td>780</td>\n",
       "      <td>Dumb &amp; Dumber (1994)</td>\n",
       "      <td>3</td>\n",
       "    </tr>\n",
       "    <tr>\n",
       "      <th>15</th>\n",
       "      <td>651</td>\n",
       "      <td>Glory (1989)</td>\n",
       "      <td>4</td>\n",
       "    </tr>\n",
       "    <tr>\n",
       "      <th>16</th>\n",
       "      <td>514</td>\n",
       "      <td>Annie Hall (1977)</td>\n",
       "      <td>2</td>\n",
       "    </tr>\n",
       "    <tr>\n",
       "      <th>17</th>\n",
       "      <td>483</td>\n",
       "      <td>Casablanca (1942)</td>\n",
       "      <td>5</td>\n",
       "    </tr>\n",
       "    <tr>\n",
       "      <th>18</th>\n",
       "      <td>432</td>\n",
       "      <td>Fantasia (1940)</td>\n",
       "      <td>2</td>\n",
       "    </tr>\n",
       "    <tr>\n",
       "      <th>19</th>\n",
       "      <td>404</td>\n",
       "      <td>Pinocchio (1940)</td>\n",
       "      <td>1</td>\n",
       "    </tr>\n",
       "  </tbody>\n",
       "</table>\n",
       "</div>"
      ],
      "text/plain": [
       "   Movie_id                                   Title  Rating\n",
       "0        55                Professional, The (1994)       4\n",
       "1        56                     Pulp Fiction (1994)       5\n",
       "2        64        Shawshank Redemption, The (1994)       5\n",
       "3        71                   Lion King, The (1994)       4\n",
       "4        94                       Home Alone (1990)       2\n",
       "5       102                  Aristocats, The (1970)       2\n",
       "6       118                          Twister (1996)       2\n",
       "7       133               Gone with the Wind (1939)       1\n",
       "8       141     20,000 Leagues Under the Sea (1954)       4\n",
       "9       168  Monty Python and the Holy Grail (1974)       4\n",
       "10      173              Princess Bride, The (1987)       5\n",
       "11      196               Dead Poets Society (1989)       3\n",
       "12     1278                           Selena (1997)       2\n",
       "13      928                       Craft, The (1996)       2\n",
       "14      780                    Dumb & Dumber (1994)       3\n",
       "15      651                            Glory (1989)       4\n",
       "16      514                       Annie Hall (1977)       2\n",
       "17      483                       Casablanca (1942)       5\n",
       "18      432                         Fantasia (1940)       2\n",
       "19      404                        Pinocchio (1940)       1"
      ]
     },
     "execution_count": 31,
     "metadata": {},
     "output_type": "execute_result"
    }
   ],
   "source": [
    "#Data file containing ratings data\n",
    "f = open(\"data/Movies.txt\")\n",
    "text = csv.reader(f, delimiter = \"\\t\")\n",
    "ratings = list(text)\n",
    "myMovieRatings = pd.DataFrame(ratings, columns = [\"Movie_id\", \"Title\"])\n",
    "rate = [4,5,5,4,2,2,2,1,4,4,5,3,2,2,3,4,2,5,2,1]\n",
    "myratings = pd.DataFrame(rate, columns =[\"Rating\"])\n",
    "dfs = [myMovieRatings,myratings]\n",
    "myMovieRatings = pd.concat(dfs, axis = 1)"
   ]
  },
  {
   "cell_type": "markdown",
   "metadata": {},
   "source": [
    "My goal at the end of this project would be to \"guess\" my rating of the Movies \"Home Alone\" and \"Glory.\" I picked two none extreme choices to determine how well our code predicts the my ratings. "
   ]
  },
  {
   "cell_type": "markdown",
   "metadata": {},
   "source": [
    "## Code:"
   ]
  },
  {
   "cell_type": "markdown",
   "metadata": {},
   "source": [
    "### Opening and Cleaning Data"
   ]
  },
  {
   "cell_type": "code",
   "execution_count": 32,
   "metadata": {
    "collapsed": false
   },
   "outputs": [],
   "source": [
    "#Data file containing ratings data\n",
    "f = open(\"data/u.data\")\n",
    "text = csv.reader(f, delimiter = \"\\t\")\n",
    "ratings = list(text)\n",
    "\n",
    "# My Ratings of the movie Data (I left out the ones I wanted to \"guess\")\n",
    "my_ratings = [4,5,5,4,0,2,2,1,4,4,5,3,2,2,3,0,2,5,2,1]\n",
    "\n",
    "ratings_pd = pd.DataFrame(ratings, columns = [\"user_id\",\"movie_id\", \"rating\",\"timestamp\"])\n",
    "ratings_pd = ratings_pd.drop([\"timestamp\"], 1)\n",
    "\n",
    "movies = ratings_pd.pivot(index = \"movie_id\", columns = \"user_id\", values = \"rating\")\n",
    "\n",
    "#Movie IDs\n",
    "i = ['55','56','64','71','94','102','118','133','141','168','173','196','1278','928','780',\n",
    "     '651','514','483','432','404']\n",
    "movies = movies.loc[i,:]\n",
    "\n",
    "#Random User IDs\n",
    "l = ['13','128','201','207','222','23','234','246','267','268','269','276','493','642',\n",
    "     '655','846','95','262','194','130','1']\n",
    "movies = movies.loc[:,l]\n",
    "movies = movies.fillna(value=0)\n"
   ]
  },
  {
   "cell_type": "markdown",
   "metadata": {},
   "source": [
    "Notes On Movie Choices: \n",
    "The Movies we picked matched the ones up top and were picked at random (I perused the list looking for a smattering of various movies, it's just a toy set, that I hoped would have a diverse selection). However, the users we picked were \"random.\" The truth was I first cut up the data set with just my movie choices, and then I picked the users that had the most reviews for my choices. I was going to code this, but I couldn't programmically figure this out. I be honest, I had problems with this and choosing the closest neighbors. In the end, I just \"intuitively\" (as in "
   ]
  },
  {
   "cell_type": "markdown",
   "metadata": {},
   "source": [
    "### Processing Data: Item - Item Collobrative Filter"
   ]
  },
  {
   "cell_type": "code",
   "execution_count": 33,
   "metadata": {
    "collapsed": false
   },
   "outputs": [],
   "source": [
    "def Basic_Rec(movies, my_ratings,index):\n",
    "    \"\"\"\n",
    "    Takes a Dataset (movies) of ratings, a list of ratings, \n",
    "    and the index of the requested movie you wish to \"recommend\"\n",
    "    \"\"\"\n",
    "    movies_np = np.array(movies)\n",
    "    movies_np = movies_np.astype(float)\n",
    "    movies_np = np.insert(movies_np, 0, my_ratings, axis=1)\n",
    "    mean_movie= []\n",
    "    count_movie = []\n",
    "\n",
    "    for row in movies_np:\n",
    "    \n",
    "        row_sum = np.sum(row)\n",
    "        count = np.count_nonzero(row)\n",
    "        count_movie.append(count)\n",
    "        mean_movie.append(row_sum/count)\n",
    "\n",
    "   \n",
    "    count_user = []\n",
    "    mean_user = []\n",
    "\n",
    "    for row in movies_np.T:\n",
    "        row_sum = np.sum(row)\n",
    "        count = np.count_nonzero(row)\n",
    "        count_user.append(count)\n",
    "        mean_user.append(row_sum/count)\n",
    "\n",
    "    \n",
    "    movies_np[movies_np==0] = np.nan\n",
    "\n",
    "    mean_cent = []\n",
    "    i = 0\n",
    "    for row in  movies_np:\n",
    "        mean_cent.append(row - mean_movie[i]) \n",
    "        i += 1\n",
    "    \n",
    "    mean_cent = np.array(mean_cent)\n",
    "\n",
    "    mean_cent = np.nan_to_num(mean_cent)\n",
    "    U = []\n",
    " \n",
    "    for row in mean_cent:\n",
    "        y = 0\n",
    "        for val in row:\n",
    "            x = math.pow(val,2)\n",
    "            y = y + x\n",
    "        U.append(math.sqrt(y))\n",
    "\n",
    "    num = np.dot(mean_cent,mean_cent.T)\n",
    "\n",
    "    m = len(mean_cent.T[0])\n",
    "\n",
    "    for i in range(m):\n",
    "        for j in range(m):\n",
    "            num[i,j] = num[i,j]/(U[i]*U[j])\n",
    "        \n",
    "    Sort = np.array(num[index])\n",
    "    ind = Sort.argsort()[-3:][::-1]\n",
    "\n",
    "\n",
    "    x1 = mean_cent[ind[1],0]\n",
    "    x2 = mean_cent[ind[2],0]\n",
    "\n",
    "\n",
    "    # Calculating A Global Estimate for any 0 Values\n",
    "    movies_np = np.nan_to_num(movies_np)\n",
    "    global_mean = np.sum(movies_np)/np.count_nonzero(movies_np)\n",
    "    if x1 == 0:\n",
    "        x1 = global_mean + (mean_user[0]-global_mean) + (mean_movie[ind[1]] - global_mean)\n",
    "        x1 = x1 - mean_movie[ind[1]]\n",
    "    if x2 == 0:\n",
    "        x2 = global_mean + (mean_user[0]-global_mean) + (mean_movie[ind[2]] - global_mean)\n",
    "        x2 = x2 - mean_movie[ind[2]]    \n",
    "\n",
    "\n",
    "    Fin_Rating = mean_user[0] + ((x1 * Sort[ind[1]]) + (x2 * Sort[ind[2]]))/(Sort[ind[1]]+Sort[ind[2]])\n",
    "    return Fin_Rating  "
   ]
  },
  {
   "cell_type": "code",
   "execution_count": 34,
   "metadata": {
    "collapsed": false,
    "scrolled": true
   },
   "outputs": [
    {
     "data": {
      "text/plain": [
       "1.808862892271248"
      ]
     },
     "execution_count": 34,
     "metadata": {},
     "output_type": "execute_result"
    }
   ],
   "source": [
    "Basic_Rec(movies, my_ratings,4)"
   ]
  },
  {
   "cell_type": "code",
   "execution_count": 35,
   "metadata": {
    "collapsed": false
   },
   "outputs": [
    {
     "data": {
      "text/plain": [
       "3.016199985735422"
      ]
     },
     "execution_count": 35,
     "metadata": {},
     "output_type": "execute_result"
    }
   ],
   "source": [
    "Basic_Rec(movies, my_ratings,2)"
   ]
  },
  {
   "cell_type": "code",
   "execution_count": 36,
   "metadata": {
    "collapsed": false
   },
   "outputs": [
    {
     "data": {
      "text/html": [
       "<div>\n",
       "<table border=\"1\" class=\"dataframe\">\n",
       "  <thead>\n",
       "    <tr style=\"text-align: right;\">\n",
       "      <th></th>\n",
       "      <th>Movie_id</th>\n",
       "      <th>Title</th>\n",
       "      <th>Rating</th>\n",
       "      <th>Calc-Rating</th>\n",
       "    </tr>\n",
       "  </thead>\n",
       "  <tbody>\n",
       "    <tr>\n",
       "      <th>0</th>\n",
       "      <td>55</td>\n",
       "      <td>Professional, The (1994)</td>\n",
       "      <td>4</td>\n",
       "      <td>2.483412</td>\n",
       "    </tr>\n",
       "    <tr>\n",
       "      <th>1</th>\n",
       "      <td>56</td>\n",
       "      <td>Pulp Fiction (1994)</td>\n",
       "      <td>5</td>\n",
       "      <td>2.833848</td>\n",
       "    </tr>\n",
       "    <tr>\n",
       "      <th>2</th>\n",
       "      <td>64</td>\n",
       "      <td>Shawshank Redemption, The (1994)</td>\n",
       "      <td>5</td>\n",
       "      <td>3.016200</td>\n",
       "    </tr>\n",
       "    <tr>\n",
       "      <th>3</th>\n",
       "      <td>71</td>\n",
       "      <td>Lion King, The (1994)</td>\n",
       "      <td>4</td>\n",
       "      <td>2.453312</td>\n",
       "    </tr>\n",
       "    <tr>\n",
       "      <th>4</th>\n",
       "      <td>94</td>\n",
       "      <td>Home Alone (1990)</td>\n",
       "      <td>2</td>\n",
       "      <td>1.808863</td>\n",
       "    </tr>\n",
       "    <tr>\n",
       "      <th>5</th>\n",
       "      <td>102</td>\n",
       "      <td>Aristocats, The (1970)</td>\n",
       "      <td>2</td>\n",
       "      <td>2.843482</td>\n",
       "    </tr>\n",
       "    <tr>\n",
       "      <th>6</th>\n",
       "      <td>118</td>\n",
       "      <td>Twister (1996)</td>\n",
       "      <td>2</td>\n",
       "      <td>2.524113</td>\n",
       "    </tr>\n",
       "    <tr>\n",
       "      <th>7</th>\n",
       "      <td>133</td>\n",
       "      <td>Gone with the Wind (1939)</td>\n",
       "      <td>1</td>\n",
       "      <td>2.441165</td>\n",
       "    </tr>\n",
       "    <tr>\n",
       "      <th>8</th>\n",
       "      <td>141</td>\n",
       "      <td>20,000 Leagues Under the Sea (1954)</td>\n",
       "      <td>4</td>\n",
       "      <td>3.571516</td>\n",
       "    </tr>\n",
       "    <tr>\n",
       "      <th>9</th>\n",
       "      <td>168</td>\n",
       "      <td>Monty Python and the Holy Grail (1974)</td>\n",
       "      <td>4</td>\n",
       "      <td>2.714354</td>\n",
       "    </tr>\n",
       "    <tr>\n",
       "      <th>10</th>\n",
       "      <td>173</td>\n",
       "      <td>Princess Bride, The (1987)</td>\n",
       "      <td>5</td>\n",
       "      <td>3.528775</td>\n",
       "    </tr>\n",
       "    <tr>\n",
       "      <th>11</th>\n",
       "      <td>196</td>\n",
       "      <td>Dead Poets Society (1989)</td>\n",
       "      <td>3</td>\n",
       "      <td>2.325658</td>\n",
       "    </tr>\n",
       "    <tr>\n",
       "      <th>12</th>\n",
       "      <td>1278</td>\n",
       "      <td>Selena (1997)</td>\n",
       "      <td>2</td>\n",
       "      <td>1.175945</td>\n",
       "    </tr>\n",
       "    <tr>\n",
       "      <th>13</th>\n",
       "      <td>928</td>\n",
       "      <td>Craft, The (1996)</td>\n",
       "      <td>2</td>\n",
       "      <td>2.764191</td>\n",
       "    </tr>\n",
       "    <tr>\n",
       "      <th>14</th>\n",
       "      <td>780</td>\n",
       "      <td>Dumb &amp; Dumber (1994)</td>\n",
       "      <td>3</td>\n",
       "      <td>3.226915</td>\n",
       "    </tr>\n",
       "    <tr>\n",
       "      <th>15</th>\n",
       "      <td>651</td>\n",
       "      <td>Glory (1989)</td>\n",
       "      <td>4</td>\n",
       "      <td>2.225246</td>\n",
       "    </tr>\n",
       "    <tr>\n",
       "      <th>16</th>\n",
       "      <td>514</td>\n",
       "      <td>Annie Hall (1977)</td>\n",
       "      <td>2</td>\n",
       "      <td>0.577489</td>\n",
       "    </tr>\n",
       "    <tr>\n",
       "      <th>17</th>\n",
       "      <td>483</td>\n",
       "      <td>Casablanca (1942)</td>\n",
       "      <td>5</td>\n",
       "      <td>2.742936</td>\n",
       "    </tr>\n",
       "    <tr>\n",
       "      <th>18</th>\n",
       "      <td>432</td>\n",
       "      <td>Fantasia (1940)</td>\n",
       "      <td>2</td>\n",
       "      <td>0.920541</td>\n",
       "    </tr>\n",
       "    <tr>\n",
       "      <th>19</th>\n",
       "      <td>404</td>\n",
       "      <td>Pinocchio (1940)</td>\n",
       "      <td>1</td>\n",
       "      <td>1.674304</td>\n",
       "    </tr>\n",
       "  </tbody>\n",
       "</table>\n",
       "</div>"
      ],
      "text/plain": [
       "   Movie_id                                   Title  Rating  Calc-Rating\n",
       "0        55                Professional, The (1994)       4     2.483412\n",
       "1        56                     Pulp Fiction (1994)       5     2.833848\n",
       "2        64        Shawshank Redemption, The (1994)       5     3.016200\n",
       "3        71                   Lion King, The (1994)       4     2.453312\n",
       "4        94                       Home Alone (1990)       2     1.808863\n",
       "5       102                  Aristocats, The (1970)       2     2.843482\n",
       "6       118                          Twister (1996)       2     2.524113\n",
       "7       133               Gone with the Wind (1939)       1     2.441165\n",
       "8       141     20,000 Leagues Under the Sea (1954)       4     3.571516\n",
       "9       168  Monty Python and the Holy Grail (1974)       4     2.714354\n",
       "10      173              Princess Bride, The (1987)       5     3.528775\n",
       "11      196               Dead Poets Society (1989)       3     2.325658\n",
       "12     1278                           Selena (1997)       2     1.175945\n",
       "13      928                       Craft, The (1996)       2     2.764191\n",
       "14      780                    Dumb & Dumber (1994)       3     3.226915\n",
       "15      651                            Glory (1989)       4     2.225246\n",
       "16      514                       Annie Hall (1977)       2     0.577489\n",
       "17      483                       Casablanca (1942)       5     2.742936\n",
       "18      432                         Fantasia (1940)       2     0.920541\n",
       "19      404                        Pinocchio (1940)       1     1.674304"
      ]
     },
     "execution_count": 36,
     "metadata": {},
     "output_type": "execute_result"
    }
   ],
   "source": [
    "calc_ratings = []\n",
    "for i in range(20):\n",
    "    calc_ratings.append(Basic_Rec(movies, my_ratings,i))\n",
    "    \n",
    "calc_ratings = pd.DataFrame(calc_ratings, columns =[\"Calc-Rating\"])\n",
    "dfs = [myMovieRatings,calc_ratings]\n",
    "myMovieRatings = pd.concat(dfs, axis = 1)\n",
    "myMovieRatings\n"
   ]
  },
  {
   "cell_type": "markdown",
   "metadata": {},
   "source": [
    "It appears to be working, however, it doesn't seem to be the best recommender system. "
   ]
  },
  {
   "cell_type": "markdown",
   "metadata": {},
   "source": [
    "### Referrences: "
   ]
  },
  {
   "cell_type": "markdown",
   "metadata": {},
   "source": [
    "F. Maxwell Harper and Joseph A. Konstan. 2015. The MovieLens Datasets: History and Context. ACM Transactions on Interactive Intelligent Systems (TiiS) 5, 4, Article 19 (December 2015), 19 pages. http://dx.doi.org/10.1145/2827872 http://grouplens.org/datasets/movielens/"
   ]
  }
 ],
 "metadata": {
  "kernelspec": {
   "display_name": "Python 2",
   "language": "python",
   "name": "python2"
  },
  "language_info": {
   "codemirror_mode": {
    "name": "ipython",
    "version": 2
   },
   "file_extension": ".py",
   "mimetype": "text/x-python",
   "name": "python",
   "nbconvert_exporter": "python",
   "pygments_lexer": "ipython2",
   "version": "2.7.11"
  }
 },
 "nbformat": 4,
 "nbformat_minor": 0
}
