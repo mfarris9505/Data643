{
 "cells": [
  {
   "cell_type": "markdown",
   "metadata": {},
   "source": [
    "# A Study on Generalized Item Based Filtering using SVD"
   ]
  },
  {
   "cell_type": "code",
   "execution_count": 75,
   "metadata": {
    "collapsed": false
   },
   "outputs": [],
   "source": [
    "import pandas as pd \n",
    "import numpy as np\n",
    "import csv\n",
    "import math\n",
    "from sklearn.metrics import pairwise_distances\n",
    "from sklearn.metrics import mean_squared_error\n",
    "from sklearn.metrics import mean_absolute_error\n",
    "import matplotlib.pyplot as plt\n"
   ]
  },
  {
   "cell_type": "markdown",
   "metadata": {},
   "source": [
    "## Purpose"
   ]
  },
  {
   "cell_type": "raw",
   "metadata": {},
   "source": [
    "The purpose of this project is emulate a previously studied concept of Item-Based Filtering using SVD. In the article \"Applying SVD on Generalized Item-based Filtering\"[2] The authors Vozalis and Margaritis proposed a Item-Base Collobartive filtering algorithm. In this project we will attempt to recreate these algorithms in python (please note: no code was given in the article just formulas). However, we will attempt to update said algorithms to fit our needs here. \n",
    "\n",
    "To start this project we took the Movielens dataset, that we have become quite familiar with. This time, however, we are going to use the entire dataset of about 1000 users against 1700 movies. \n"
   ]
  },
  {
   "cell_type": "markdown",
   "metadata": {},
   "source": [
    "Our proposed algorithm for the following code utlized the first experiment in the article. In brief the SVD was calculated as follows:\n",
    "* Data Normalization:   \n",
    "    *  The first step in the process was the normalize the data, this was accomplished by taking the data as whole, and filling in all the NA values with the Mean value of that specific movie. This was to eliminate the sparcity and to create a more complete dataset. It was then necessary to further normalize the data by finding the mean_center, which was computed by taking rating and subtracting the mean of each individual user.\n",
    "* SVD Calculation\n",
    "    * Following the Normalization process, the SVD was calculated using Numpy's built in formula. It was here that we calculated the approximate decomposite matrices. Using a formula, we ensured we could take the desired k-value for the reduced matrix decomposition, and compute a new R_Red matrix from the relevant reduced elements. \n",
    "* Prediction Matrix\n",
    "    * Finally, the full predicted matrix was calculated using Cosine similarities on an Item-Item basis. Taking the nearest neighbors (using a formula obtained from Padebetttu et al [1]), we calculated the relative similarity and used that formula to add it back to the calculated user_mean that we initially substracted out. "
   ]
  },
  {
   "cell_type": "markdown",
   "metadata": {},
   "source": [
    "As a short aside, we utilized an SVD approach on a content-based recommender system. In this one however, we merely took the Movie Genre data and applied and SVD formula. The proposed content-based syetem was merely analyzed to determine relevant \"psuedo\" genres for all the movie content. Again, we wanted to determine a relevant k-value for future reference on this matter. A follow-up project would be a combination of the two filters to create a hybrid recommender system. "
   ]
  },
  {
   "cell_type": "markdown",
   "metadata": {},
   "source": [
    "### Data Collection and Cleaning"
   ]
  },
  {
   "cell_type": "code",
   "execution_count": 76,
   "metadata": {
    "collapsed": false
   },
   "outputs": [],
   "source": [
    "#Data file containing ratings data\n",
    "f = open(\"data/u.data\")\n",
    "text = csv.reader(f, delimiter = \"\\t\")\n",
    "ratings = list(text)\n",
    "\n",
    "#Data containing Item Data (Content)\n",
    "f = open(\"data/u.item\")\n",
    "text = csv.reader(f, delimiter = \"|\")\n",
    "item = list(text)\n",
    "\n",
    "ratings_pd = pd.DataFrame(ratings, columns = [\"user_id\",\"movie_id\", \"rating\",\"timestamp\"])\n",
    "ratings_pd = ratings_pd.drop([\"timestamp\"], 1)\n",
    "\n",
    "items_pd = pd.DataFrame(item, columns = [\"movie_id\",\"title\",\"release\",\"video_release\",\"IMDB\",\n",
    "                                         \"unknown\",\"Action\",\"Adventure\",\"Animation\",\"Child\",\n",
    "                                         \"Comedy\",\"Crime\",\"Doc\",\"Drama\",\"Fantasy\",\"Film-Noir\",\n",
    "                                         \"Horror\",\"Musical\",\"Mystery\",\"Romance\",\"Sci-Fi\", \n",
    "                                         \"Thriller\",\"War\", \"Western\"])\n",
    "\n",
    "items_pd = items_pd.drop([\"movie_id\",\"release\",\"video_release\",\"IMDB\"], 1)\n",
    "\n",
    "\n",
    "#Creating Content and Rating dataframes\n",
    "items = items_pd.set_index([\"title\"])\n",
    "\n",
    "movies = ratings_pd.pivot(index = \"user_id\", columns = \"movie_id\", values = \"rating\")\n",
    "\n",
    "#For future reference\n",
    "movies_test = movies\n",
    "movies_test = movies.apply(pd.to_numeric, errors='coerce')\n",
    "\n",
    "#Main DataSet\n",
    "movies = movies.apply(pd.to_numeric, errors='coerce')\n",
    "\n",
    "#for future reference\n",
    "movies_int = np.array(movies)\n",
    "items_int = np.array(items)\n",
    "np.nan_to_num(movies_int)\n",
    "\n",
    "# Borrowed some code here from Padebetttu et. al. -DATA643- Project 2\n",
    "user_mean = movies.T.mean(skipna=True)\n",
    "item_mean = movies.mean(skipna=True)\n",
    "movies = movies.apply(lambda x: x.fillna(x.mean(skipna = True)),axis=1)\n",
    "movies_mean = movies.apply(lambda x: x-x.mean(), axis = 0).round(5)\n",
    "\n",
    "#Content Mean Calculation (irrelevant data mainly to make code function)\n",
    "items = items.replace('0', np.nan)\n",
    "items = items.apply(pd.to_numeric, errors='coerce')\n",
    "items = items.apply(lambda x: x.fillna(.001),axis=1)\n"
   ]
  },
  {
   "cell_type": "markdown",
   "metadata": {},
   "source": [
    "### Using SVD to Determine an appropriate *k* Value"
   ]
  },
  {
   "cell_type": "code",
   "execution_count": 77,
   "metadata": {
    "collapsed": true
   },
   "outputs": [],
   "source": [
    "#Using SVD to find \n",
    "def svd_red(movies_mean,n):\n",
    "    U1, s1, V1 = np.linalg.svd(movies_mean, full_matrices=True)\n",
    "    k = np.zeros((len(s1),len(s1)),float)\n",
    "    np.fill_diagonal(k,s1)\n",
    "    k = k[:n,:n]\n",
    "    k = np.sqrt(k)\n",
    "    U2 = U1[:,:n]\n",
    "    V2 =V1[:,:n].T\n",
    "    Uk = np.dot(U2,k.T)\n",
    "    Vk = np.dot(k,V2)\n",
    "    R_red = np.dot(Uk,Vk)\n",
    "    return R_red, Uk, Vk\n",
    "\n",
    "def pred_item(movies_mean,n):\n",
    "    R_red, Uk, Vk = svd_red(movies_mean,n)\n",
    "    item_similarity = 1 - pairwise_distances(Vk.T, metric='cosine')\n",
    "    pred = R_red.dot(item_similarity) / np.array([np.abs(item_similarity).sum(axis=1)])  \n",
    "    final_pred = pred.T\n",
    "    final_pred += user_mean\n",
    "    final_pred = final_pred.T\n",
    "    return final_pred\n"
   ]
  },
  {
   "cell_type": "markdown",
   "metadata": {},
   "source": [
    "Using the above code we are able to find a prediction based on the Item-Item Collaborative Filter using SVD. To test various values of K to determine if the k by k reduced matrix size greatly influence the Error, we can calculate the Root Mean Square Error over several changes in k. "
   ]
  },
  {
   "cell_type": "code",
   "execution_count": 78,
   "metadata": {
    "collapsed": false
   },
   "outputs": [],
   "source": [
    "RMSE = []\n",
    "\n",
    "k = [1,2,3,4,5,10,20,30,40,50,100,200,300,400,500]\n",
    "\n",
    "for i in k:\n",
    "    pred = pred_item(movies_mean, i)\n",
    "    y = mean_squared_error(movies_int[np.where(movies_int >0)], pred[np.where(movies_int >0)])   \n",
    "    RMSE.append(math.sqrt(y))"
   ]
  },
  {
   "cell_type": "markdown",
   "metadata": {},
   "source": [
    "Ploting the Error gives us a better representation of the error that betweeen the actual predicted values: "
   ]
  },
  {
   "cell_type": "code",
   "execution_count": 79,
   "metadata": {
    "collapsed": false
   },
   "outputs": [
    {
     "data": {
      "image/png": "[encoded data removed]",
      "text/plain": [
       "<matplotlib.figure.Figure at 0x12a045c0>"
      ]
     },
     "metadata": {},
     "output_type": "display_data"
    }
   ],
   "source": [
    "%matplotlib inline\n",
    "plt.plot(k, RMSE)\n",
    "plt.title(\"RMSE vs k-Value\")\n",
    "plt.ylabel('RMSE')\n",
    "plt.xlabel(\"k-Value\")\n",
    "plt.show()"
   ]
  },
  {
   "cell_type": "markdown",
   "metadata": {},
   "source": [
    "From our investigation, the k-value makes very little difference in the overall error, as it is very likely that vast number of data points will not result in a significant difference. However the above graph allows for us to pick a suitable k value to minimize computation will still maintain an accuracy. As you can see from our graph, to minimize the error, the best overal values to pick are in the 50 to 60 range. This ensure both that the SVD isn't overfitting that data (which we see in the increase in RMSE over the increase in K), and isn's too small to miss any latent relational data [2] On a side note: very low k values actually produced error ratings much lower than the choosen k = 50 for the remainder of the project. It can be assumed that the SVD actually over simplifies at those low values producing lower error but less accurate predictions. We will test this by checking the values of a small sample from each. "
   ]
  },
  {
   "cell_type": "code",
   "execution_count": 80,
   "metadata": {
    "collapsed": false
   },
   "outputs": [],
   "source": [
    "index = movies.index.tolist()\n",
    "columns = list(movies.columns.values)\n",
    "pred = pred_item(movies_mean, 50)\n",
    "Pred_pd = pd.DataFrame(pred, index = index, columns=columns)\n",
    "\n",
    "i = ['56','64','71','94','102','118','173','196','928','651','514','483','432','404']\n",
    "movies_sm = movies_test.loc[i,:]\n",
    "Pred_sm = Pred_pd.loc[i,:]\n",
    "\n",
    "l = ['13','201','222','234','246','268','269','276','655','95','194']\n",
    "movies_sm = movies_sm.loc[:,l]\n",
    "Pred_sm = Pred_sm.loc[:,l]\n"
   ]
  },
  {
   "cell_type": "code",
   "execution_count": 81,
   "metadata": {
    "collapsed": false
   },
   "outputs": [
    {
     "data": {
      "text/html": [
       "<div>\n",
       "<table border=\"1\" class=\"dataframe\">\n",
       "  <thead>\n",
       "    <tr style=\"text-align: right;\">\n",
       "      <th>movie_id</th>\n",
       "      <th>13</th>\n",
       "      <th>201</th>\n",
       "      <th>222</th>\n",
       "      <th>234</th>\n",
       "      <th>246</th>\n",
       "      <th>268</th>\n",
       "      <th>269</th>\n",
       "      <th>276</th>\n",
       "      <th>655</th>\n",
       "      <th>95</th>\n",
       "      <th>194</th>\n",
       "    </tr>\n",
       "    <tr>\n",
       "      <th>user_id</th>\n",
       "      <th></th>\n",
       "      <th></th>\n",
       "      <th></th>\n",
       "      <th></th>\n",
       "      <th></th>\n",
       "      <th></th>\n",
       "      <th></th>\n",
       "      <th></th>\n",
       "      <th></th>\n",
       "      <th></th>\n",
       "      <th></th>\n",
       "    </tr>\n",
       "  </thead>\n",
       "  <tbody>\n",
       "    <tr>\n",
       "      <th>56</th>\n",
       "      <td>NaN</td>\n",
       "      <td>4</td>\n",
       "      <td>5</td>\n",
       "      <td>4</td>\n",
       "      <td>NaN</td>\n",
       "      <td>NaN</td>\n",
       "      <td>NaN</td>\n",
       "      <td>NaN</td>\n",
       "      <td>4</td>\n",
       "      <td>4</td>\n",
       "      <td>5</td>\n",
       "    </tr>\n",
       "    <tr>\n",
       "      <th>64</th>\n",
       "      <td>NaN</td>\n",
       "      <td>NaN</td>\n",
       "      <td>4</td>\n",
       "      <td>4</td>\n",
       "      <td>NaN</td>\n",
       "      <td>NaN</td>\n",
       "      <td>5</td>\n",
       "      <td>NaN</td>\n",
       "      <td>4</td>\n",
       "      <td>4</td>\n",
       "      <td>5</td>\n",
       "    </tr>\n",
       "    <tr>\n",
       "      <th>71</th>\n",
       "      <td>NaN</td>\n",
       "      <td>NaN</td>\n",
       "      <td>3</td>\n",
       "      <td>NaN</td>\n",
       "      <td>NaN</td>\n",
       "      <td>NaN</td>\n",
       "      <td>NaN</td>\n",
       "      <td>4</td>\n",
       "      <td>NaN</td>\n",
       "      <td>NaN</td>\n",
       "      <td>NaN</td>\n",
       "    </tr>\n",
       "    <tr>\n",
       "      <th>94</th>\n",
       "      <td>NaN</td>\n",
       "      <td>4</td>\n",
       "      <td>3</td>\n",
       "      <td>5</td>\n",
       "      <td>4</td>\n",
       "      <td>4</td>\n",
       "      <td>NaN</td>\n",
       "      <td>NaN</td>\n",
       "      <td>4</td>\n",
       "      <td>NaN</td>\n",
       "      <td>4</td>\n",
       "    </tr>\n",
       "    <tr>\n",
       "      <th>102</th>\n",
       "      <td>3</td>\n",
       "      <td>2</td>\n",
       "      <td>3</td>\n",
       "      <td>3</td>\n",
       "      <td>NaN</td>\n",
       "      <td>NaN</td>\n",
       "      <td>2</td>\n",
       "      <td>NaN</td>\n",
       "      <td>3</td>\n",
       "      <td>4</td>\n",
       "      <td>3</td>\n",
       "    </tr>\n",
       "    <tr>\n",
       "      <th>118</th>\n",
       "      <td>NaN</td>\n",
       "      <td>5</td>\n",
       "      <td>NaN</td>\n",
       "      <td>5</td>\n",
       "      <td>NaN</td>\n",
       "      <td>NaN</td>\n",
       "      <td>NaN</td>\n",
       "      <td>NaN</td>\n",
       "      <td>5</td>\n",
       "      <td>NaN</td>\n",
       "      <td>NaN</td>\n",
       "    </tr>\n",
       "    <tr>\n",
       "      <th>173</th>\n",
       "      <td>NaN</td>\n",
       "      <td>NaN</td>\n",
       "      <td>NaN</td>\n",
       "      <td>NaN</td>\n",
       "      <td>NaN</td>\n",
       "      <td>4</td>\n",
       "      <td>4</td>\n",
       "      <td>NaN</td>\n",
       "      <td>NaN</td>\n",
       "      <td>NaN</td>\n",
       "      <td>NaN</td>\n",
       "    </tr>\n",
       "    <tr>\n",
       "      <th>196</th>\n",
       "      <td>2</td>\n",
       "      <td>NaN</td>\n",
       "      <td>NaN</td>\n",
       "      <td>NaN</td>\n",
       "      <td>NaN</td>\n",
       "      <td>NaN</td>\n",
       "      <td>3</td>\n",
       "      <td>NaN</td>\n",
       "      <td>5</td>\n",
       "      <td>NaN</td>\n",
       "      <td>NaN</td>\n",
       "    </tr>\n",
       "    <tr>\n",
       "      <th>928</th>\n",
       "      <td>NaN</td>\n",
       "      <td>NaN</td>\n",
       "      <td>NaN</td>\n",
       "      <td>NaN</td>\n",
       "      <td>5</td>\n",
       "      <td>5</td>\n",
       "      <td>5</td>\n",
       "      <td>5</td>\n",
       "      <td>NaN</td>\n",
       "      <td>NaN</td>\n",
       "      <td>NaN</td>\n",
       "    </tr>\n",
       "    <tr>\n",
       "      <th>651</th>\n",
       "      <td>NaN</td>\n",
       "      <td>NaN</td>\n",
       "      <td>NaN</td>\n",
       "      <td>NaN</td>\n",
       "      <td>NaN</td>\n",
       "      <td>2</td>\n",
       "      <td>5</td>\n",
       "      <td>4</td>\n",
       "      <td>NaN</td>\n",
       "      <td>NaN</td>\n",
       "      <td>NaN</td>\n",
       "    </tr>\n",
       "    <tr>\n",
       "      <th>514</th>\n",
       "      <td>3</td>\n",
       "      <td>NaN</td>\n",
       "      <td>4</td>\n",
       "      <td>3</td>\n",
       "      <td>NaN</td>\n",
       "      <td>4</td>\n",
       "      <td>4</td>\n",
       "      <td>NaN</td>\n",
       "      <td>4</td>\n",
       "      <td>4</td>\n",
       "      <td>4</td>\n",
       "    </tr>\n",
       "    <tr>\n",
       "      <th>483</th>\n",
       "      <td>NaN</td>\n",
       "      <td>NaN</td>\n",
       "      <td>3</td>\n",
       "      <td>NaN</td>\n",
       "      <td>NaN</td>\n",
       "      <td>NaN</td>\n",
       "      <td>NaN</td>\n",
       "      <td>NaN</td>\n",
       "      <td>NaN</td>\n",
       "      <td>NaN</td>\n",
       "      <td>NaN</td>\n",
       "    </tr>\n",
       "    <tr>\n",
       "      <th>432</th>\n",
       "      <td>NaN</td>\n",
       "      <td>NaN</td>\n",
       "      <td>4</td>\n",
       "      <td>NaN</td>\n",
       "      <td>4</td>\n",
       "      <td>NaN</td>\n",
       "      <td>NaN</td>\n",
       "      <td>4</td>\n",
       "      <td>NaN</td>\n",
       "      <td>NaN</td>\n",
       "      <td>NaN</td>\n",
       "    </tr>\n",
       "    <tr>\n",
       "      <th>404</th>\n",
       "      <td>NaN</td>\n",
       "      <td>NaN</td>\n",
       "      <td>NaN</td>\n",
       "      <td>NaN</td>\n",
       "      <td>NaN</td>\n",
       "      <td>NaN</td>\n",
       "      <td>4</td>\n",
       "      <td>NaN</td>\n",
       "      <td>NaN</td>\n",
       "      <td>NaN</td>\n",
       "      <td>NaN</td>\n",
       "    </tr>\n",
       "  </tbody>\n",
       "</table>\n",
       "</div>"
      ],
      "text/plain": [
       "movie_id  13  201  222  234  246  268  269  276  655  95  194\n",
       "user_id                                                      \n",
       "56       NaN    4    5    4  NaN  NaN  NaN  NaN    4   4    5\n",
       "64       NaN  NaN    4    4  NaN  NaN    5  NaN    4   4    5\n",
       "71       NaN  NaN    3  NaN  NaN  NaN  NaN    4  NaN NaN  NaN\n",
       "94       NaN    4    3    5    4    4  NaN  NaN    4 NaN    4\n",
       "102        3    2    3    3  NaN  NaN    2  NaN    3   4    3\n",
       "118      NaN    5  NaN    5  NaN  NaN  NaN  NaN    5 NaN  NaN\n",
       "173      NaN  NaN  NaN  NaN  NaN    4    4  NaN  NaN NaN  NaN\n",
       "196        2  NaN  NaN  NaN  NaN  NaN    3  NaN    5 NaN  NaN\n",
       "928      NaN  NaN  NaN  NaN    5    5    5    5  NaN NaN  NaN\n",
       "651      NaN  NaN  NaN  NaN  NaN    2    5    4  NaN NaN  NaN\n",
       "514        3  NaN    4    3  NaN    4    4  NaN    4   4    4\n",
       "483      NaN  NaN    3  NaN  NaN  NaN  NaN  NaN  NaN NaN  NaN\n",
       "432      NaN  NaN    4  NaN    4  NaN  NaN    4  NaN NaN  NaN\n",
       "404      NaN  NaN  NaN  NaN  NaN  NaN    4  NaN  NaN NaN  NaN"
      ]
     },
     "execution_count": 81,
     "metadata": {},
     "output_type": "execute_result"
    }
   ],
   "source": [
    "movies_sm"
   ]
  },
  {
   "cell_type": "code",
   "execution_count": 82,
   "metadata": {
    "collapsed": false
   },
   "outputs": [
    {
     "data": {
      "text/html": [
       "<div>\n",
       "<table border=\"1\" class=\"dataframe\">\n",
       "  <thead>\n",
       "    <tr style=\"text-align: right;\">\n",
       "      <th></th>\n",
       "      <th>13</th>\n",
       "      <th>201</th>\n",
       "      <th>222</th>\n",
       "      <th>234</th>\n",
       "      <th>246</th>\n",
       "      <th>268</th>\n",
       "      <th>269</th>\n",
       "      <th>276</th>\n",
       "      <th>655</th>\n",
       "      <th>95</th>\n",
       "      <th>194</th>\n",
       "    </tr>\n",
       "  </thead>\n",
       "  <tbody>\n",
       "    <tr>\n",
       "      <th>56</th>\n",
       "      <td>3.705890</td>\n",
       "      <td>3.706253</td>\n",
       "      <td>3.688925</td>\n",
       "      <td>3.614217</td>\n",
       "      <td>3.700699</td>\n",
       "      <td>3.637083</td>\n",
       "      <td>3.707786</td>\n",
       "      <td>3.658499</td>\n",
       "      <td>3.591617</td>\n",
       "      <td>3.636757</td>\n",
       "      <td>3.668293</td>\n",
       "    </tr>\n",
       "    <tr>\n",
       "      <th>64</th>\n",
       "      <td>3.563734</td>\n",
       "      <td>3.580158</td>\n",
       "      <td>3.597884</td>\n",
       "      <td>3.552802</td>\n",
       "      <td>3.593489</td>\n",
       "      <td>3.548204</td>\n",
       "      <td>3.605790</td>\n",
       "      <td>3.551261</td>\n",
       "      <td>3.592060</td>\n",
       "      <td>3.609608</td>\n",
       "      <td>3.566660</td>\n",
       "    </tr>\n",
       "    <tr>\n",
       "      <th>71</th>\n",
       "      <td>3.948515</td>\n",
       "      <td>3.977349</td>\n",
       "      <td>3.953379</td>\n",
       "      <td>3.727964</td>\n",
       "      <td>3.993754</td>\n",
       "      <td>3.671309</td>\n",
       "      <td>3.961852</td>\n",
       "      <td>3.868424</td>\n",
       "      <td>3.768933</td>\n",
       "      <td>3.846156</td>\n",
       "      <td>3.957671</td>\n",
       "    </tr>\n",
       "    <tr>\n",
       "      <th>94</th>\n",
       "      <td>3.791240</td>\n",
       "      <td>3.771937</td>\n",
       "      <td>3.706713</td>\n",
       "      <td>3.548481</td>\n",
       "      <td>3.720132</td>\n",
       "      <td>3.707862</td>\n",
       "      <td>3.795395</td>\n",
       "      <td>3.642575</td>\n",
       "      <td>3.582870</td>\n",
       "      <td>3.707394</td>\n",
       "      <td>3.654438</td>\n",
       "    </tr>\n",
       "    <tr>\n",
       "      <th>102</th>\n",
       "      <td>1.852006</td>\n",
       "      <td>1.707011</td>\n",
       "      <td>1.839114</td>\n",
       "      <td>2.947035</td>\n",
       "      <td>1.615833</td>\n",
       "      <td>3.185128</td>\n",
       "      <td>1.693271</td>\n",
       "      <td>2.178361</td>\n",
       "      <td>2.740430</td>\n",
       "      <td>2.321122</td>\n",
       "      <td>1.840288</td>\n",
       "    </tr>\n",
       "    <tr>\n",
       "      <th>118</th>\n",
       "      <td>5.507819</td>\n",
       "      <td>5.679627</td>\n",
       "      <td>5.542454</td>\n",
       "      <td>4.300141</td>\n",
       "      <td>5.786972</td>\n",
       "      <td>4.025064</td>\n",
       "      <td>5.661402</td>\n",
       "      <td>5.127780</td>\n",
       "      <td>4.482847</td>\n",
       "      <td>5.016225</td>\n",
       "      <td>5.521944</td>\n",
       "    </tr>\n",
       "    <tr>\n",
       "      <th>173</th>\n",
       "      <td>4.697703</td>\n",
       "      <td>4.790550</td>\n",
       "      <td>4.699225</td>\n",
       "      <td>4.004312</td>\n",
       "      <td>4.857738</td>\n",
       "      <td>3.850431</td>\n",
       "      <td>4.792971</td>\n",
       "      <td>4.484341</td>\n",
       "      <td>4.112894</td>\n",
       "      <td>4.402015</td>\n",
       "      <td>4.712521</td>\n",
       "    </tr>\n",
       "    <tr>\n",
       "      <th>196</th>\n",
       "      <td>3.634648</td>\n",
       "      <td>3.644748</td>\n",
       "      <td>3.627322</td>\n",
       "      <td>3.623875</td>\n",
       "      <td>3.647674</td>\n",
       "      <td>3.591890</td>\n",
       "      <td>3.628811</td>\n",
       "      <td>3.636393</td>\n",
       "      <td>3.605728</td>\n",
       "      <td>3.637441</td>\n",
       "      <td>3.648024</td>\n",
       "    </tr>\n",
       "    <tr>\n",
       "      <th>928</th>\n",
       "      <td>5.563090</td>\n",
       "      <td>5.719563</td>\n",
       "      <td>5.575815</td>\n",
       "      <td>4.334273</td>\n",
       "      <td>5.835227</td>\n",
       "      <td>4.041204</td>\n",
       "      <td>5.704602</td>\n",
       "      <td>5.172854</td>\n",
       "      <td>4.523538</td>\n",
       "      <td>5.049504</td>\n",
       "      <td>5.575761</td>\n",
       "    </tr>\n",
       "    <tr>\n",
       "      <th>651</th>\n",
       "      <td>3.033550</td>\n",
       "      <td>2.994898</td>\n",
       "      <td>3.022378</td>\n",
       "      <td>3.399256</td>\n",
       "      <td>2.979808</td>\n",
       "      <td>3.451665</td>\n",
       "      <td>3.010760</td>\n",
       "      <td>3.171679</td>\n",
       "      <td>3.338330</td>\n",
       "      <td>3.185881</td>\n",
       "      <td>3.054156</td>\n",
       "    </tr>\n",
       "    <tr>\n",
       "      <th>514</th>\n",
       "      <td>4.030058</td>\n",
       "      <td>4.057602</td>\n",
       "      <td>4.054620</td>\n",
       "      <td>3.732156</td>\n",
       "      <td>4.102302</td>\n",
       "      <td>3.691168</td>\n",
       "      <td>4.070749</td>\n",
       "      <td>3.933346</td>\n",
       "      <td>3.790104</td>\n",
       "      <td>3.956564</td>\n",
       "      <td>4.046958</td>\n",
       "    </tr>\n",
       "    <tr>\n",
       "      <th>483</th>\n",
       "      <td>2.629421</td>\n",
       "      <td>2.537728</td>\n",
       "      <td>2.617708</td>\n",
       "      <td>3.230103</td>\n",
       "      <td>2.488399</td>\n",
       "      <td>3.358528</td>\n",
       "      <td>2.543502</td>\n",
       "      <td>2.846934</td>\n",
       "      <td>3.158575</td>\n",
       "      <td>2.876531</td>\n",
       "      <td>2.604237</td>\n",
       "    </tr>\n",
       "    <tr>\n",
       "      <th>432</th>\n",
       "      <td>3.791252</td>\n",
       "      <td>3.830906</td>\n",
       "      <td>3.790630</td>\n",
       "      <td>3.697321</td>\n",
       "      <td>3.830171</td>\n",
       "      <td>3.620939</td>\n",
       "      <td>3.825566</td>\n",
       "      <td>3.790007</td>\n",
       "      <td>3.685455</td>\n",
       "      <td>3.736906</td>\n",
       "      <td>3.805327</td>\n",
       "    </tr>\n",
       "    <tr>\n",
       "      <th>404</th>\n",
       "      <td>2.971154</td>\n",
       "      <td>2.933764</td>\n",
       "      <td>2.974137</td>\n",
       "      <td>3.388541</td>\n",
       "      <td>2.881916</td>\n",
       "      <td>3.441883</td>\n",
       "      <td>2.927725</td>\n",
       "      <td>3.126735</td>\n",
       "      <td>3.312342</td>\n",
       "      <td>3.128000</td>\n",
       "      <td>2.977847</td>\n",
       "    </tr>\n",
       "  </tbody>\n",
       "</table>\n",
       "</div>"
      ],
      "text/plain": [
       "           13       201       222       234       246       268       269  \\\n",
       "56   3.705890  3.706253  3.688925  3.614217  3.700699  3.637083  3.707786   \n",
       "64   3.563734  3.580158  3.597884  3.552802  3.593489  3.548204  3.605790   \n",
       "71   3.948515  3.977349  3.953379  3.727964  3.993754  3.671309  3.961852   \n",
       "94   3.791240  3.771937  3.706713  3.548481  3.720132  3.707862  3.795395   \n",
       "102  1.852006  1.707011  1.839114  2.947035  1.615833  3.185128  1.693271   \n",
       "118  5.507819  5.679627  5.542454  4.300141  5.786972  4.025064  5.661402   \n",
       "173  4.697703  4.790550  4.699225  4.004312  4.857738  3.850431  4.792971   \n",
       "196  3.634648  3.644748  3.627322  3.623875  3.647674  3.591890  3.628811   \n",
       "928  5.563090  5.719563  5.575815  4.334273  5.835227  4.041204  5.704602   \n",
       "651  3.033550  2.994898  3.022378  3.399256  2.979808  3.451665  3.010760   \n",
       "514  4.030058  4.057602  4.054620  3.732156  4.102302  3.691168  4.070749   \n",
       "483  2.629421  2.537728  2.617708  3.230103  2.488399  3.358528  2.543502   \n",
       "432  3.791252  3.830906  3.790630  3.697321  3.830171  3.620939  3.825566   \n",
       "404  2.971154  2.933764  2.974137  3.388541  2.881916  3.441883  2.927725   \n",
       "\n",
       "          276       655        95       194  \n",
       "56   3.658499  3.591617  3.636757  3.668293  \n",
       "64   3.551261  3.592060  3.609608  3.566660  \n",
       "71   3.868424  3.768933  3.846156  3.957671  \n",
       "94   3.642575  3.582870  3.707394  3.654438  \n",
       "102  2.178361  2.740430  2.321122  1.840288  \n",
       "118  5.127780  4.482847  5.016225  5.521944  \n",
       "173  4.484341  4.112894  4.402015  4.712521  \n",
       "196  3.636393  3.605728  3.637441  3.648024  \n",
       "928  5.172854  4.523538  5.049504  5.575761  \n",
       "651  3.171679  3.338330  3.185881  3.054156  \n",
       "514  3.933346  3.790104  3.956564  4.046958  \n",
       "483  2.846934  3.158575  2.876531  2.604237  \n",
       "432  3.790007  3.685455  3.736906  3.805327  \n",
       "404  3.126735  3.312342  3.128000  2.977847  "
      ]
     },
     "execution_count": 82,
     "metadata": {},
     "output_type": "execute_result"
    }
   ],
   "source": [
    "Pred_sm"
   ]
  },
  {
   "cell_type": "code",
   "execution_count": 83,
   "metadata": {
    "collapsed": false
   },
   "outputs": [
    {
     "data": {
      "text/plain": [
       "0.8246501061967716"
      ]
     },
     "execution_count": 83,
     "metadata": {},
     "output_type": "execute_result"
    }
   ],
   "source": [
    "pred_sm = np.array(Pred_sm)\n",
    "movies_sm = np.array(movies_sm)\n",
    "movies_sm = np.nan_to_num(movies_sm)\n",
    "\n",
    "movies_sm\n",
    "y = mean_squared_error(movies_sm[np.where(movies_sm >0)], pred_sm[np.where(movies_sm >0)])   \n",
    "math.sqrt(y)"
   ]
  },
  {
   "cell_type": "markdown",
   "metadata": {},
   "source": [
    "## Content-Based Filter - A brief Study"
   ]
  },
  {
   "cell_type": "code",
   "execution_count": 84,
   "metadata": {
    "collapsed": false
   },
   "outputs": [],
   "source": [
    "n=5\n",
    "items = items.replace('0', np.nan)\n",
    "items = items.apply(pd.to_numeric, errors='coerce')\n",
    "items = items.apply(lambda x: x.fillna(.000001),axis=1)\n",
    "R_red, Uk, Vk = svd_red(items,n)"
   ]
  },
  {
   "cell_type": "code",
   "execution_count": 85,
   "metadata": {
    "collapsed": true
   },
   "outputs": [],
   "source": [
    "def pred_cont(items,n):\n",
    "    R_red, Uk, Vk = svd_red(items,n)\n",
    "    item_similarity = 1 - pairwise_distances(Vk.T, metric='cosine')\n",
    "    pred = R_red.dot(item_similarity) / np.array([np.abs(item_similarity).sum(axis=1)]) \n",
    "    return pred"
   ]
  },
  {
   "cell_type": "code",
   "execution_count": 86,
   "metadata": {
    "collapsed": false
   },
   "outputs": [],
   "source": [
    "RMSE_content = []\n",
    "\n",
    "k = range(1,11)\n",
    "\n",
    "for i in k:\n",
    "    pred = pred_cont(items, i)\n",
    "    y = mean_squared_error(items_int[np.where(items_int >0)], pred[np.where(items_int >0)])   \n",
    "    RMSE_content.append(math.sqrt(y))"
   ]
  },
  {
   "cell_type": "code",
   "execution_count": 87,
   "metadata": {
    "collapsed": false
   },
   "outputs": [
    {
     "data": {
      "image/png": "[encoded data removed]",
      "text/plain": [
       "<matplotlib.figure.Figure at 0x12a35d68>"
      ]
     },
     "metadata": {},
     "output_type": "display_data"
    }
   ],
   "source": [
    "%matplotlib inline\n",
    "plt.plot(k, RMSE_content)\n",
    "plt.title(\"RMSE vs k-Value\")\n",
    "plt.ylabel('RMSE')\n",
    "plt.xlabel(\"k-Value\")\n",
    "plt.show()"
   ]
  },
  {
   "cell_type": "markdown",
   "metadata": {},
   "source": [
    "The content based filtering test, was merely a demonstration. In order to work out a couple of kinks, there needs to be improvements in the normalization of the data, as the SVD would not properly initialize with zero values (hence the input of a small variable). As it is, the k-value of psuedo genres for processing would be 7 (ther is an obvious dip). Using a smaller value of k would not be advisable as it would eliminate an relevant latent similarities.  "
   ]
  },
  {
   "cell_type": "markdown",
   "metadata": {},
   "source": [
    "### References"
   ]
  },
  {
   "cell_type": "markdown",
   "metadata": {},
   "source": [
    "[1]Padebetttu P.,Rath P.,Windokun A, Wu X. *DATA643- Project 2* Summer 2016 Instructor: Andrew Catlin https://github.com/ppadebettu/CUNY/blob/Master/IS_643_Recommender_Systems/Project_2/DATA643_Project_2_final.ipynb"
   ]
  },
  {
   "cell_type": "markdown",
   "metadata": {},
   "source": [
    "[2]Vozalis M., Margaritis K.; *Applying SVD on Generalized Item-based Filtering* International Journal of Computer Science & Applications 2006; Vol.3 Is.3, pp 27- 51 2006 http://www.tmrfindia.org/ijcsa/v3i34.pdf"
   ]
  },
  {
   "cell_type": "markdown",
   "metadata": {},
   "source": [
    "[3]F. Maxwell Harper and Joseph A. Konstan. 2015. *The MovieLens Datasets: History and Context. ACM Transactions on Interactive Intelligent Systems (TiiS)* 5, 4, Article 19 (December 2015), 19 pages. http://dx.doi.org/10.1145/2827872 http://grouplens.org/datasets/movielens/"
   ]
  }
 ],
 "metadata": {
  "kernelspec": {
   "display_name": "Python 2",
   "language": "python",
   "name": "python2"
  }
 },
 "nbformat": 4,
 "nbformat_minor": 0
}
