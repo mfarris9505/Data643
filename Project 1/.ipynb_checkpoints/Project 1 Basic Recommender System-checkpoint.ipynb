{
 "cells": [
  {
   "cell_type": "markdown",
   "metadata": {},
   "source": [
    "# Project 1:Basic Recommender System"
   ]
  },
  {
   "cell_type": "markdown",
   "metadata": {},
   "source": [
    "## Introduction"
   ]
  },
  {
   "cell_type": "markdown",
   "metadata": {},
   "source": [
    "For this project, a basic Recommender System was attempted. The data used for this was the Movielens 100k Dataset provided by Grouplens. The data set is quite diverse(a bit on the old side), but provides 100k ratings from 1700 movies (pre-1995). "
   ]
  },
  {
   "cell_type": "markdown",
   "metadata": {},
   "source": [
    "## Code:"
   ]
  },
  {
   "cell_type": "markdown",
   "metadata": {},
   "source": [
    "### Opening and Cleaning Data"
   ]
  },
  {
   "cell_type": "code",
   "execution_count": 4,
   "metadata": {
    "collapsed": true
   },
   "outputs": [],
   "source": [
    "import pandas as pd \n",
    "import numpy as np\n",
    "import math\n",
    "import csv\n"
   ]
  },
  {
   "cell_type": "code",
   "execution_count": 5,
   "metadata": {
    "collapsed": false
   },
   "outputs": [],
   "source": [
    "#Data file containing ratings data\n",
    "f = open(\"data/u.data\")\n",
    "text = csv.reader(f, delimiter = \"\\t\")\n",
    "ratings = list(text)\n",
    "\n",
    "# My Ratings of the movie Data (I pick)\n",
    "my_ratings = [4,5,5,4,0,2,2,1,4,4,5,3,2,2,3,0,2,5,2,1]\n",
    "\n",
    "ratings_pd = pd.DataFrame(ratings, columns = [\"user_id\",\"movie_id\", \"rating\",\"timestamp\"])\n",
    "ratings_pd = ratings_pd.drop([\"timestamp\"], 1)\n",
    "\n",
    "movies = ratings_pd.pivot(index = \"movie_id\", columns = \"user_id\", values = \"rating\")\n",
    "\n",
    "i = ['55','56','64','71','94','102','118','133','141','168','173','196','1278','928','780',\n",
    "     '651','514','483','432','404']\n",
    "movies = movies.loc[i,:]\n",
    "\n",
    "l = ['13','128','201','207','222','23','234','246','267','268','269','276','493','642',\n",
    "     '655','846','95','262','194','130','1']\n",
    "movies = movies.loc[:,l]\n",
    "movies = movies.fillna(value=0)\n",
    "\n",
    "movies_np = np.array(movies)\n",
    "movies_np = movies_np.astype(float)\n",
    "movies_np = np.insert(movies_np, 0, my_ratings, axis=1)"
   ]
  },
  {
   "cell_type": "markdown",
   "metadata": {},
   "source": [
    "### Processing Data"
   ]
  },
  {
   "cell_type": "code",
   "execution_count": null,
   "metadata": {
    "collapsed": true
   },
   "outputs": [],
   "source": [
    "mean_movie= []\n",
    "count_movie = []\n",
    "\n",
    "for row in movies_np:\n",
    "    \n",
    "    row_sum = np.sum(row)\n",
    "    count = np.count_nonzero(row)\n",
    "    count_movie.append(count)\n",
    "    mean_movie.append(row_sum/count)\n",
    "\n",
    "   \n",
    "count_user = []\n",
    "mean_user = []\n",
    "\n",
    "for row in movies_np.T:\n",
    "    row_sum = np.sum(row)\n",
    "    count = np.count_nonzero(row)\n",
    "    count_user.append(count)\n",
    "    mean_user.append(row_sum/count)\n",
    "\n",
    "    \n",
    "movies_np[movies_np==0] = np.nan\n",
    "\n",
    "\n",
    "mean_cent = []\n",
    "i = 0\n",
    "for row in  movies_np:\n",
    "    mean_cent.append(row - mean_movie[i]) \n",
    "    i += 1\n",
    "    \n",
    "mean_cent = np.array(mean_cent)\n",
    "\n",
    "mean_cent = np.nan_to_num(mean_cent)\n",
    "U = []\n",
    " \n",
    "for row in mean_cent:\n",
    "    y = 0\n",
    "    for val in row:\n",
    "        x = math.pow(val,2)\n",
    "        y = y + x\n",
    "    U.append(math.sqrt(y))\n",
    "\n",
    "cent_t = mean_cent.T\n",
    "\n",
    "num = np.dot(mean_cent,mean_cent.T)\n",
    "\n",
    "for i in range(20):\n",
    "    for j in range(20):\n",
    "        num[i,j] = num[i,j]/(U[i]*U[j])\n",
    "        "
   ]
  },
  {
   "cell_type": "markdown",
   "metadata": {},
   "source": [
    "### Referrences: "
   ]
  },
  {
   "cell_type": "markdown",
   "metadata": {},
   "source": [
    "F. Maxwell Harper and Joseph A. Konstan. 2015. The MovieLens Datasets: History and Context. ACM Transactions on Interactive Intelligent Systems (TiiS) 5, 4, Article 19 (December 2015), 19 pages. http://dx.doi.org/10.1145/2827872 http://grouplens.org/datasets/movielens/"
   ]
  },
  {
   "cell_type": "code",
   "execution_count": null,
   "metadata": {
    "collapsed": true
   },
   "outputs": [],
   "source": []
  }
 ],
 "metadata": {
  "kernelspec": {
   "display_name": "Python 2",
   "language": "python",
   "name": "python2"
  },
  "language_info": {
   "codemirror_mode": {
    "name": "ipython",
    "version": 2
   },
   "file_extension": ".py",
   "mimetype": "text/x-python",
   "name": "python",
   "nbconvert_exporter": "python",
   "pygments_lexer": "ipython2",
   "version": "2.7.11"
  }
 },
 "nbformat": 4,
 "nbformat_minor": 0
}
