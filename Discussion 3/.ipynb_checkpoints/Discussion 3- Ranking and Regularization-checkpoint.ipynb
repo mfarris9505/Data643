{
 "cells": [
  {
   "cell_type": "markdown",
   "metadata": {},
   "source": [
    "## Abstract: Overlapping Community Regularization for Rating Prediction in Social Recommender Systems"
   ]
  },
  {
   "cell_type": "markdown",
   "metadata": {},
   "source": [
    "### Abstract:"
   ]
  },
  {
   "cell_type": "markdown",
   "metadata": {},
   "source": [
    "In this article, a detailed discussion was presented on how to best utilize community based social-networks in recommender systems. Tradtional models use item ratings along with user user similarites to faciliate recommendations. With the advent of social-networks, we now have access to a vast network of user defined communities. The idea behind this, is that people with similar interest, will likely share similar tastes accross other aspects as well, leading to better recommendations. Furthermore, It has been shown that accessing these connections have created increased accuracy to User-User and Item-Item Collaborative filtering techniques, especially if the user-user matrix is quite sparse. However, as this article points out, most of these recommender systems use only direct friends as a mean of regulating and weighting these matrices. By adding a \"community \" that a user chooses the be a part of, we add another element into the equation, and expands the potential users that the target person is \"connected to\" The article proposes that any \"community\" that a user belongs to can also be utilized as a means of regularization, providing increased accuracy. The model proposed in this article compares the standard Matrix Factorization approach, and adds another layer, by deriving the rating vectors of the community by taking the mean vector of all the users in a given community. The Latent Feature vector is then utilized to give weight to the different users during the matrix factorization process. "
   ]
  },
  {
   "cell_type": "markdown",
   "metadata": {},
   "source": [
    "### Potential and Uses"
   ]
  },
  {
   "cell_type": "markdown",
   "metadata": {},
   "source": [
    "The potential for this is dramatic, which we can see in alot of providers pushing towards \"linking to Facebook,\" or \"sign up with Facebook.\" Besides the upside in ad potential, creating this link could provide potential sites, such as Netflix, or some smaller companies to utilize user communities in Facebook to add a constraint to their traditional recommender systems. Adding the constraint of the community that a person is involved with, adds another dynamic element, and each User can now be treated different in the Similarity Matrix. Furthermore, this Model increases the accuracy of potential recommendation on cold-start users. As much of the recommendation is based on a target users pre-defined social network, it works well with users who have yet to rate an items."
   ]
  },
  {
   "cell_type": "markdown",
   "metadata": {},
   "source": [
    "### Reference: "
   ]
  },
  {
   "cell_type": "markdown",
   "metadata": {},
   "source": [
    "Li H., Wu D., Tang w., Mamoulis N., Overlapping Community Regularization for Rating Prediction in Social Recommender Systems University of Hong Kong 2015\n",
    "http://i.cs.hku.hk/~nikos/RecSys15.pdf"
   ]
  }
 ],
 "metadata": {
  "kernelspec": {
   "display_name": "Python 2",
   "language": "python",
   "name": "python2"
  },
  "language_info": {
   "codemirror_mode": {
    "name": "ipython",
    "version": 2
   },
   "file_extension": ".py",
   "mimetype": "text/x-python",
   "name": "python",
   "nbconvert_exporter": "python",
   "pygments_lexer": "ipython2",
   "version": "2.7.11"
  }
 },
 "nbformat": 4,
 "nbformat_minor": 0
}
