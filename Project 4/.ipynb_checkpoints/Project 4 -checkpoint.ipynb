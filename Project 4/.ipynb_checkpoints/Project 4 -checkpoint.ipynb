{
 "cells": [
  {
   "cell_type": "markdown",
   "metadata": {},
   "source": [
    "# Tackling Cold-Start User and Items in Recommender Systems"
   ]
  },
  {
   "cell_type": "markdown",
   "metadata": {},
   "source": [
    "## Introduction"
   ]
  },
  {
   "cell_type": "markdown",
   "metadata": {},
   "source": [
    "Though collaborative filtering techniques have been throughly and comprehensively validated, a problem has remained that is still at the forefront of research, and that is the cold-start problem. Conceptually, cold-start problems are at the fore-front of the business world. With new users, we face the age old adage of whether finding new customers is more costly than retaining old ones. We all know that such is the case from previous statistic, however, in the emerging world of online retail and \"subscription\" services, though it may cost more to find new customers, without significant growth, most of these companies will become stagnant, and in the end be quickly replaced by the next big internet fad. This is why the cold-start problem has been a big priority for companies such as Netflix, Amazon, and any other online retailer or subscription service. By being able to provide new users with accurate recommendation could easily increase sales and ensure that \"free-trial members\" become full fledged paying users. Our focus in this project will be how to tackle these cold start user and items. The plan for this project will be to utilize several different techniques to determine which method is the best. Our choice for the moment would be the previously explored SVD factorization, along with a new alternating least squared method. Furthermore, the idea of a \"weighting system\" will be implemented using the content of movie and user data. The idea here, will be to apply a cold-start for a user, by assigning that users rating as the average rating of all the items by all the users, finding the users with similar attributes, and then applying a weight to those averages to determine a \"predicted value.\" This will be tested against the RMSE of his actual predictions. "
   ]
  },
  {
   "cell_type": "markdown",
   "metadata": {},
   "source": [
    "## Data Source and Cleaning"
   ]
  },
  {
   "cell_type": "markdown",
   "metadata": {},
   "source": [
    "For this project we will continue to use the MovieLens data source. Though in all reality, we could move on to any another dataset, but the proposed implementation can be easily modified for any dataset. In order to save time, and because ther Movie-lens data set is tried and tested, we continued to use the 100k movieset. Furthermore, the entire dataset will be used in this implementation. As we plan to utilize the content of the items and the users, we will creating a similiarity matrix for the content matrix. The purpose of this would be to create a weighting system for Collaborative Filtering, allowing for a \"boost\" in the accuracy [1]. Furthermore, our plan is to use some of the User data to create implied \"context\" data [4] because the data set does not have any explicit data, we will apply some pre-filtering data from the implied content information. Below is the data acquistion: at the end we obtain 3 matrics: A User-Movie Rating Matrix composed of 943 rows for users and 1682 columns of movies. We have a Item-Content Matrix with 1682 movies each represented by 19 features (in this case  movie genres). Finally we have User-Content Matrid with 943 user with 27 features (column 1 gender, columns 2 through 22 are jobs, the last 5 columns represent an age range 0-18, 18-25, 25-40, 40-65, 65-80).   "
   ]
  },
  {
   "cell_type": "code",
   "execution_count": 42,
   "metadata": {
    "collapsed": true
   },
   "outputs": [],
   "source": [
    "import pandas as pd \n",
    "import numpy as np\n",
    "import csv\n",
    "import matplotlib.pyplot as plt\n",
    "import math\n",
    "from sklearn.metrics import pairwise_distances\n",
    "from sklearn.metrics import mean_squared_error\n",
    "from sklearn.metrics import mean_absolute_error\n",
    "\n",
    "#Data file containing ratings data\n",
    "f = open(\"data/u.data\")\n",
    "text = csv.reader(f, delimiter = \"\\t\")\n",
    "ratings = list(text)\n",
    "\n",
    "#Data containing Item Data (Content)\n",
    "f = open(\"data/u.item\")\n",
    "text = csv.reader(f, delimiter = \"|\")\n",
    "item = list(text)\n",
    "\n",
    "#Data containing User-Content Data \n",
    "f = open(\"data/u.user\")\n",
    "text = csv.reader(f, delimiter = \"|\")\n",
    "user = list(text)\n",
    "\n",
    "#Data containing job names\n",
    "f = open(\"data/u.occupation\")\n",
    "text = csv.reader(f, delimiter = \"\\t\")\n",
    "jobs = list(text)\n",
    "\n",
    "#Extracting Initial Data\n",
    "user_pd = pd.DataFrame(user, columns = [\"user_id\",\"age\",\"gender\",\"occupation\",\"zip\"])\n",
    "user_pd = user_pd.set_index(\"user_id\")\n",
    "items_pd = pd.DataFrame(item, columns = [\"movie_id\",\"title\",\"release\",\"video_release\",\"IMDB\",\n",
    "                                         \"unknown\",\"Action\",\"Adventure\",\"Animation\",\"Child\",\n",
    "                                         \"Comedy\",\"Crime\",\"Doc\",\"Drama\",\"Fantasy\",\"Film-Noir\",\n",
    "                                         \"Horror\",\"Musical\",\"Mystery\",\"Romance\",\"Sci-Fi\", \n",
    "                                         \"Thriller\",\"War\", \"Western\"])\n",
    "\n",
    "items_pd = items_pd.drop([\"movie_id\",\"release\",\"video_release\",\"IMDB\"], 1)\n",
    "ratings_pd = pd.DataFrame(ratings, columns = [\"user_id\",\"movie_id\", \"rating\",\"timestamp\"])\n",
    "ratings_pd = ratings_pd.drop([\"timestamp\"], 1)\n",
    "movies = ratings_pd.pivot(index = \"user_id\", columns = \"movie_id\", values = \"rating\")\n",
    "\n",
    "#Making the User Dataset Matrix friendly\n",
    "map_gender = {\"M\":0,\"F\":1}\n",
    "map_jobs = {}\n",
    "Age_range = {\"0-18\":0, \"18-25\":1,\"25-40\":2,\"40-60\":3, \"65-80\":4}\n",
    "\n",
    "#Creathing Jobs Dict\n",
    "i = 0 \n",
    "for job in jobs:\n",
    "    map_jobs[job[0]] = i\n",
    "    i = i + 1\n",
    "\n",
    "def Age_Range(x):\n",
    "    if x in range(19):\n",
    "        x = 0\n",
    "        return x\n",
    "    elif x in range(18,26):\n",
    "        x = 1\n",
    "        return x\n",
    "    elif x in range(25,41):\n",
    "        x = 2\n",
    "        return x\n",
    "    elif x in range(40,66):\n",
    "        x = 3\n",
    "        return x\n",
    "    elif x in range(65,81):\n",
    "        x = 4\n",
    "        return x\n",
    "\n",
    "user_pd['age'] = user_pd['age'].astype(int)\n",
    "user_pd['age'] = user_pd['age'].map(Age_Range)\n",
    "user_pd = user_pd.replace({\"gender\": map_gender,'occupation': map_jobs})\n",
    "\n",
    "#Creating Dummy col for Jobs\n",
    "dummies = pd.get_dummies(user_pd['occupation'], prefix='job', prefix_sep='_')\n",
    "col_names_dummies = dummies.columns.values\n",
    "\n",
    "for i,value in enumerate(col_names_dummies):\n",
    "    user_pd[value] = dummies.iloc[:,i]\n",
    "\n",
    "#Creating Dummy col for age\n",
    "dummies = pd.get_dummies(user_pd['age'], prefix='age', prefix_sep='_')\n",
    "col_names_dummies = dummies.columns.values\n",
    "\n",
    "for i,value in enumerate(col_names_dummies):\n",
    "    user_pd[value] = dummies.iloc[:,i]\n",
    "\n",
    "user_pd = user_pd.drop([\"age\",\"occupation\",\"zip\"], 1)\n",
    "movies = movies.apply(pd.to_numeric, errors='coerce')\n",
    "movies_int = np.array(movies)\n",
    "np.nan_to_num(movies_int)\n",
    "\n",
    "# Borrowed some code here from Padebetttu et. al. -DATA643- Project 2\n",
    "user_mean = movies.T.mean(skipna=True)\n",
    "item_mean = movies.mean(skipna=True)\n",
    "movies = movies.apply(lambda x: x.fillna(x.mean(skipna = True)),axis=1)\n",
    "movies_mean = movies.apply(lambda x: x-x.mean(), axis = 1).round(5)\n",
    "\n",
    "#Finalizing our datasets\n",
    "movies_np = np.array(movies_mean)\n",
    "movies_np = movies_np.astype(float)\n",
    "\n",
    "#items dataset \n",
    "items_pd = items_pd.set_index([\"title\"])\n",
    "items = items_pd.replace('0', np.nan)\n",
    "items = items.apply(pd.to_numeric, errors='coerce')\n",
    "items = items.apply(lambda x: x.fillna(.000001),axis=1)\n",
    "\n",
    "#users dataset\n",
    "users = user_pd\n",
    "users = users.replace('0', np.nan)\n",
    "users = users.apply(pd.to_numeric, errors='coerce')\n",
    "users = users.apply(lambda x: x.fillna(.000001),axis=1)\n"
   ]
  },
  {
   "cell_type": "markdown",
   "metadata": {},
   "source": [
    "## Methodology"
   ]
  },
  {
   "cell_type": "markdown",
   "metadata": {},
   "source": [
    "For our proposed project, we will combined previous projects as a standard \"background\" recommender system and base code. From there we plan to create and devise a new system using the following steps: \n",
    "* Data Acquistion and Normaliation\n",
    "    * The first step of this process will be to process the data. For the data will be organized into 3 matrices, a User-content matrix, an Item-Content Matrix and a User-Item Rating matrix. For the movie and User content matrices, each row will represent an movie or user, respectively, while the columns will represent a specific aspect of the movie or user. For istances, all the movie break downs will be either 0 or 1, indicating if it belongs to a specific genre (19 in total). For the users, each column will represnt a specific age range the belong to, their gender, and their occupation. Furthermore, the location will be included, however, it will be utilized only as a means of providing some contextual basis. \n",
    "    * Using the designated packages in python, normalization techniques will be applied to the Rating Matrix only. Again for our purposes here we applied a mean-centered normalizaition (an attempt was made at ANOVA, but it wasn't working). \n",
    "    * For our purposes here, we will conduct several different factorization techniques and apply them to the dataset. The first being the SVD applied in the last project. We will then implement a new factorization technique using Alternating least squares. Bugra [5] proposes a way to calculate the least squares in python, which takes the weighted alternating least square method: ALS STEPS BELOW:\n",
    "        * Take an X Factor (randomized)\n",
    "        * Take a Y Factor (randomized)\n",
    "        * Solve for X keeping Y Fixed \n",
    "        * Solve for Y keeping x Fixed\n",
    "    * When we say weighted, we imply that the data points that are non-existent (ie our\n",
    "    * For the ALS, I wanted to test an \"idea\" I had. I saw that to initialize the ALS with a random matrix. I wanted to test a \"weighting system.\" Rather than utilizing a random matrix, I decided to take a \"weighted matrix,\" which I obtained by breaking down (using SVD), our Item and User Content Matrices separately. In each break down, the SVD factor matrix was used, for instance, in the user-content matrix we had 943 users with 27 features (Occupation, Gender, Age). Using SVD we broke this down to two matix factors a 943 by k matrix (arbitrarily set to 10), and a k by 27 features matrix. We then used that first matrix as our \"initiating\" matrix for the X matrix in our ALS. We did the same with the Item-Content matrix, and replaced that with the Y matrix in the ALS This, in theory, would weight our matrix during the ALS process, making those users and items with similiar  \n",
    "* Content-Based Filtering Weighting\n",
    "    * Several Articles have proposed a weighting system. Nguyen et. al [1] proposes a formula to extract an alignment penalty.  I propose another idea, where after obtaining the Item -Item or User-User similarity matrix, rather than using the nearest neighbor as done previously, I propose to take the nearest neighbors from the rating that corresponds to most similar item/user from the content matrix. The code will be built to find all the nearest neighbors from the similarity matrix, and the correspond that to the content matrix. Another possibility would be to create a relative weight for each of the nearest neighbors.(I am still investigate how this will be done as the proposed weighting system from Nguyen et. al [1] requires gradient descent, an attempt will be made at this, but time is a factor). \n"
   ]
  },
  {
   "cell_type": "markdown",
   "metadata": {},
   "source": [
    "## Experimentation "
   ]
  },
  {
   "cell_type": "markdown",
   "metadata": {},
   "source": [
    "For our experiment we peformed 3 different matrix factorization techniques. In each instance we obtain a new mean-centered matrix of ratings. The code was actually run separately for the Alternating Least Square Method. We utilized heavily the code from Burga[5], which starts with two randomly assigned X and Y matrices, and then iterates over the matrix to minmize the cost function. In each iteration one Matrix is kept constant while the other matrix is \"fixed\". This is repeated over both matrices, and  at the end, the two matrix are then multipled together to form a new matrix with the new recommended. During the course of experimentation we discovered that hte ALS formula given by Bugra is processor intensive especially for a large 100k Data. Because of this, the data was processed (took about 45 minutes) and then a matrix was loaded. Below are the two datasets we obtained- please see Python file linalg.py for the standard Q matrix, and linalg_weighted.py for our Weighted Q. Both are included in the Github repository. The first matrix (Q) was the standard ALS matrix obtained after normalization and using two random matrices X and Y to form the basis. The second is the one where we utilized our \"SVD Factorizations\" Q_weighted. "
   ]
  },
  {
   "cell_type": "markdown",
   "metadata": {},
   "source": [
    "### Weighted Alternating Least Squares (see linalg.py and linalg_weighted.py for more details)"
   ]
  },
  {
   "cell_type": "code",
   "execution_count": 43,
   "metadata": {
    "collapsed": true
   },
   "outputs": [],
   "source": [
    "Q = np.loadtxt(\"Q.csv\", delimiter =',')\n",
    "Q_weighted = np.loadtxt(\"Q_Weighted.csv\", delimiter =',')\n",
    "\n",
    "# Errors over the iteration\n",
    "Q_err = np.loadtxt(\"Q_err.csv\", delimiter =',')\n",
    "Q_weighted_err = np.loadtxt(\"Q_Weighted_err.csv\", delimiter =',')"
   ]
  },
  {
   "cell_type": "markdown",
   "metadata": {},
   "source": [
    "Below we can show the Mean Squared Error (as calculated according to Bugra[5]) "
   ]
  },
  {
   "cell_type": "code",
   "execution_count": 44,
   "metadata": {
    "collapsed": false
   },
   "outputs": [
    {
     "data": {
      "image/png": "[encoded data removed]",
      "text/plain": [
       "<matplotlib.figure.Figure at 0xe19ff98>"
      ]
     },
     "metadata": {},
     "output_type": "display_data"
    }
   ],
   "source": [
    "%matplotlib inline\n",
    "plt.plot(Q_err)\n",
    "plt.title(\"Mean Square Error No Weight\")\n",
    "plt.ylabel('Mean Square Error')\n",
    "plt.xlabel(\"Iterations\")\n",
    "plt.show()"
   ]
  },
  {
   "cell_type": "code",
   "execution_count": 45,
   "metadata": {
    "collapsed": false
   },
   "outputs": [
    {
     "data": {
      "image/png": "[encoded data removed]",
      "text/plain": [
       "<matplotlib.figure.Figure at 0x10766080>"
      ]
     },
     "metadata": {},
     "output_type": "display_data"
    }
   ],
   "source": [
    "%matplotlib inline\n",
    "plt.plot(Q_weighted_err)\n",
    "plt.title(\"Mean Square Error Weighted \")\n",
    "plt.ylabel('Mean Square Error')\n",
    "plt.xlabel(\"Iterations\")\n",
    "plt.show()"
   ]
  },
  {
   "cell_type": "markdown",
   "metadata": {},
   "source": [
    "From the above code, we can see that the weighted Matrix we obtained did indeed produce a similar error, and it did iterate down much similar to the above randomized weighted ALS. However, we will now test the above two matrices against the SVD peformed last week. "
   ]
  },
  {
   "cell_type": "markdown",
   "metadata": {},
   "source": [
    "## Evaluation of SVD vs ALS "
   ]
  },
  {
   "cell_type": "code",
   "execution_count": 46,
   "metadata": {
    "collapsed": false
   },
   "outputs": [],
   "source": [
    "# Initial Data:\n",
    "movies_int = movies_np\n",
    "user_int = user_pd\n",
    "item_int = items_pd\n",
    "\n"
   ]
  },
  {
   "cell_type": "code",
   "execution_count": 47,
   "metadata": {
    "collapsed": false
   },
   "outputs": [],
   "source": [
    "def svd_red(movies_mean,n):\n",
    "    U1, s1, V1 = np.linalg.svd(movies_mean, full_matrices=True)\n",
    "    k = np.zeros((len(s1),len(s1)),float)\n",
    "    np.fill_diagonal(k,s1)\n",
    "    k = k[:n,:n]\n",
    "    k = np.sqrt(k)\n",
    "    U2 = U1[:,:n]\n",
    "    V2 =V1[:,:n].T\n",
    "    Uk = np.dot(U2,k.T)\n",
    "    Vk = np.dot(k,V2)\n",
    "    R_red = np.dot(Uk,Vk)\n",
    "    return R_red, Uk, Vk\n",
    "\n",
    "def pred_fin(Q,sim):\n",
    "    pred = Q.dot(sim) / np.array([np.abs(sim).sum(axis=1)]) \n",
    "    return pred\n"
   ]
  },
  {
   "cell_type": "code",
   "execution_count": 48,
   "metadata": {
    "collapsed": false
   },
   "outputs": [],
   "source": [
    "#Using the Content to create similarity matrix\n",
    "item_U, item_s, item_V = svd_red(items,10)\n",
    "user_U, user_s, user_V = svd_red(users,10)\n",
    "\n",
    "item_sim = 1 - pairwise_distances(item_U, metric='cosine')\n",
    "user_sim = 1 - pairwise_distances(user_U, metric='cosine')"
   ]
  },
  {
   "cell_type": "code",
   "execution_count": 51,
   "metadata": {
    "collapsed": false
   },
   "outputs": [],
   "source": [
    "#Rating SVD Matrix \n",
    "movie_U, movie_s1, movie_v1 = svd_red(movies_mean,10)"
   ]
  },
  {
   "cell_type": "code",
   "execution_count": 73,
   "metadata": {
    "collapsed": false
   },
   "outputs": [],
   "source": [
    "ALS_fin_user = pred_fin(Q.T,user_sim).T\n",
    "ALS_fin_item = pred_fin(Q,item_sim)\n",
    "\n",
    "ALS_w_fin_user = pred_fin(Q_weighted.T,user_sim).T\n",
    "ALS_w_fin_item = pred_fin(Q_weighted,item_sim)\n",
    "\n",
    "SVD_fin_user = pred_fin(movie_U.T,user_sim).T\n",
    "SVD_fin_item = pred_fin(movie_U,item_sim)\n",
    "\n",
    "RMSE_user=[]\n",
    "RMSE_user.append(mean_squared_error(movies_int[np.where(movies_int >0)], ALS_fin_user[np.where(movies_int >0)]))\n",
    "RMSE_user.append(mean_squared_error(movies_int[np.where(movies_int >0)], ALS_w_fin_user[np.where(movies_int >0)]))\n",
    "RMSE_user.append(mean_squared_error(movies_int[np.where(movies_int >0)], SVD_fin_user[np.where(movies_int >0)]))\n",
    "\n",
    "RMSE_item=[]\n",
    "RMSE_item.append(mean_squared_error(movies_int[np.where(movies_int >0)], ALS_fin_item[np.where(movies_int >0)]))\n",
    "RMSE_item.append(mean_squared_error(movies_int[np.where(movies_int >0)], ALS_w_fin_item[np.where(movies_int >0)]))\n",
    "RMSE_item.append(mean_squared_error(movies_int[np.where(movies_int >0)], SVD_fin_item[np.where(movies_int >0)]))"
   ]
  },
  {
   "cell_type": "code",
   "execution_count": 68,
   "metadata": {
    "collapsed": false
   },
   "outputs": [
    {
     "data": {
      "text/plain": [
       "<matplotlib.legend.Legend at 0x7d4bf28>"
      ]
     },
     "execution_count": 68,
     "metadata": {},
     "output_type": "execute_result"
    },
    {
     "data": {
      "image/png": "[encoded data removed]",
      "text/plain": [
       "<matplotlib.figure.Figure at 0x9a200b8>"
      ]
     },
     "metadata": {},
     "output_type": "display_data"
    }
   ],
   "source": [
    "%matplotlib inline\n",
    "N = 3\n",
    "ind = np.arange(N)  # the x locations for the groups\n",
    "width = 0.35       # the width of the bars\n",
    "fig, ax = plt.subplots()\n",
    "\n",
    "rects1 = ax.bar(ind, RMSE_user, width, color='r')\n",
    "\n",
    "rects2 = ax.bar(ind + width, RMSE_item, width, color='g')\n",
    "\n",
    "# add some text for labels, title and axes ticks\n",
    "ax.set_ylabel('Scores')\n",
    "ax.set_title('RMSE of User-User vs Item-Item')\n",
    "ax.set_xticks(ind + width)\n",
    "ax.set_xticklabels(('ALS', 'ALS_W', 'SVD'))\n",
    "\n",
    "ax.legend((rects1[0], rects2[0]), ('User-User', 'Item-Item'))\n"
   ]
  },
  {
   "cell_type": "code",
   "execution_count": 74,
   "metadata": {
    "collapsed": false
   },
   "outputs": [
    {
     "data": {
      "text/plain": [
       "[1.27140217852921, 1.3054725994366227, 0.85423320816141313]"
      ]
     },
     "execution_count": 74,
     "metadata": {},
     "output_type": "execute_result"
    }
   ],
   "source": [
    "RMSE_item"
   ]
  },
  {
   "cell_type": "code",
   "execution_count": 75,
   "metadata": {
    "collapsed": false
   },
   "outputs": [
    {
     "data": {
      "text/plain": [
       "[0.90459177442429561, 0.89894385847314495, 0.85428571417150956]"
      ]
     },
     "execution_count": 75,
     "metadata": {},
     "output_type": "execute_result"
    }
   ],
   "source": [
    "RMSE_user"
   ]
  },
  {
   "cell_type": "markdown",
   "metadata": {},
   "source": [
    "## Discussion and Results"
   ]
  },
  {
   "cell_type": "markdown",
   "metadata": {},
   "source": [
    "From the above graph, we have shown that despite the weighting of the ALS, there is no real difference between starting with a random X and Y matrix to factor, and using a weighted matrix factor. On an individual level, however, there may be a difference in result. Though overall the d "
   ]
  },
  {
   "cell_type": "markdown",
   "metadata": {},
   "source": [
    "## References"
   ]
  },
  {
   "cell_type": "markdown",
   "metadata": {},
   "source": [
    "[1]Nguyen, J., and Zhu, M.  Content-boosted matrix factorization techniques for recommender systems. *Statistical\n",
    "Analysis and Data Mining* 2013: 6(4):286–301. https://arxiv.org/pdf/1210.5631.pdf"
   ]
  },
  {
   "cell_type": "markdown",
   "metadata": {},
   "source": [
    "[2]Vozalis, M. and Margaritis K.; Applying SVD on Generalized Item-based Filtering *International Journal of Computer Science & Applications* 2006; Vol.3 Is.3, pp 27- 51 http://www.tmrfindia.org/ijcsa/v3i34.pdf"
   ]
  },
  {
   "cell_type": "markdown",
   "metadata": {},
   "source": [
    "[3]Harper, F.M. and Konstan, J.; *The MovieLens Datasets: History and Context.* ACM Transactions on Interactive Intelligent Systems (TiiS) 2015: 5, 4, Article 19, 19 pages. http://dx.doi.org/10.1145/2827872 http://grouplens.org/datasets/movielens/"
   ]
  },
  {
   "cell_type": "markdown",
   "metadata": {},
   "source": [
    "[4]G. Adomavicius, A. Tuzhilin, Context-Aware recommender Systems, *in: F. Ricci, et al. (Ed.), Recommender Systems Handbook*, 2011, pp. 217–253. http://ids.csom.umn.edu/faculty/gedas/nsfcareer/CARS-chapter-2010.pdf"
   ]
  },
  {
   "cell_type": "markdown",
   "metadata": {},
   "source": [
    "[5] Bugra, A. Alternating Least Squares Method for Collaborative Filtering *Bugra Machine Learning Newletter* 2014 http://bugra.github.io/work/notes/2014-04-19/alternating-least-squares-method-for-collaborative-filtering/"
   ]
  }
 ],
 "metadata": {
  "kernelspec": {
   "display_name": "Python 2",
   "language": "python",
   "name": "python2"
  },
  "language_info": {
   "codemirror_mode": {
    "name": "ipython",
    "version": 2
   },
   "file_extension": ".py",
   "mimetype": "text/x-python",
   "name": "python",
   "nbconvert_exporter": "python",
   "pygments_lexer": "ipython2",
   "version": "2.7.11"
  }
 },
 "nbformat": 4,
 "nbformat_minor": 0
}
